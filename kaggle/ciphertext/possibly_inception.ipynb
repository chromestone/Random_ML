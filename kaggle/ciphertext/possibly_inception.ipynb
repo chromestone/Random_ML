{
  "cells": [
    {
      "metadata": {
        "_uuid": "8f2839f25d086af736a60e9eeb907d3b93b6e0e5",
        "_cell_guid": "b1076dfc-b9ad-4769-8c92-a6c4dae69d19",
        "trusted": true
      },
      "cell_type": "code",
      "source": "# This Python 3 environment comes with many helpful analytics libraries installed\n# It is defined by the kaggle/python docker image: https://github.com/kaggle/docker-python\n# For example, here's several helpful packages to load in \n\nimport numpy as np # linear algebra\nimport pandas as pd # data processing, CSV file I/O (e.g. pd.read_csv)\n\n# Input data files are available in the \"../input/\" directory.\n# For example, running this (by clicking run or pressing Shift+Enter) will list the files in the input directory\n\nimport os\nprint(os.listdir(\"../input\"))\n\n# Any results you write to the current directory are saved as output.",
      "execution_count": null,
      "outputs": []
    },
    {
      "metadata": {
        "trusted": true,
        "_uuid": "5c9f6896c23e8862a326529b5639dcdd01e32bd6"
      },
      "cell_type": "code",
      "source": "import keras.layers as KL",
      "execution_count": null,
      "outputs": []
    },
    {
      "metadata": {
        "_cell_guid": "79c7e3d0-c299-4dcb-8224-4455121ee9b0",
        "_uuid": "d629ff2d2480ee46fbb7e2d37f6b5fab8052498a",
        "trusted": true
      },
      "cell_type": "code",
      "source": "from keras.applications.inception_resnet_v2 import InceptionResNetV2\n#from keras.preprocessing import image\n#from keras.applications.resnet50 import preprocess_input, decode_predictions\n#import numpy as np",
      "execution_count": null,
      "outputs": []
    },
    {
      "metadata": {
        "trusted": true,
        "_uuid": "bebf9f188b5d5770f9abd056a5790e1369e956ef"
      },
      "cell_type": "code",
      "source": "input_tensor = KL.Input((300,128,1), name='input_tensor')\ntriple_tensor = KL.Concatenate(name='triple_tensor')([input_tensor, input_tensor, input_tensor])",
      "execution_count": null,
      "outputs": []
    },
    {
      "metadata": {
        "trusted": true,
        "_uuid": "84e18b1ac9c32fb090999c3917d4bc35177d9e6b"
      },
      "cell_type": "code",
      "source": "triple_tensor.shape",
      "execution_count": null,
      "outputs": []
    },
    {
      "metadata": {
        "trusted": true,
        "_uuid": "86ebee32b14c272a7aa1f172e704d9afede1d9e2"
      },
      "cell_type": "code",
      "source": "inception_model = InceptionResNetV2(include_top=False,\n                      weights='imagenet',\n                      input_tensor=triple_tensor,\n                      input_shape=(300, 128, 3),\n                      pooling=None,\n                      classes=20)\n#classes not actually used/needed",
      "execution_count": null,
      "outputs": []
    },
    {
      "metadata": {
        "trusted": true,
        "_uuid": "34ab0ef2a3879ee8840dccd5bd877ff7c471b9cc"
      },
      "cell_type": "code",
      "source": "prediction = KL.Dense(20, activation='softmax', name='predictions')(inception_model)",
      "execution_count": null,
      "outputs": []
    }
  ],
  "metadata": {
    "kernelspec": {
      "display_name": "Python 3",
      "language": "python",
      "name": "python3"
    },
    "language_info": {
      "name": "python",
      "version": "3.6.6",
      "mimetype": "text/x-python",
      "codemirror_mode": {
        "name": "ipython",
        "version": 3
      },
      "pygments_lexer": "ipython3",
      "nbconvert_exporter": "python",
      "file_extension": ".py"
    }
  },
  "nbformat": 4,
  "nbformat_minor": 1
}