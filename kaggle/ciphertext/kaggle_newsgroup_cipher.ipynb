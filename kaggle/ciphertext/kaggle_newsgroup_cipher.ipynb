{
  "nbformat": 4,
  "nbformat_minor": 0,
  "metadata": {
    "colab": {
      "name": "kaggle_newsgroup_cipher.ipynb",
      "version": "0.3.2",
      "provenance": [],
      "collapsed_sections": [
        "QzO3mRPkz7z9",
        "45HX1qDXapsW",
        "dVtK3021zPeV",
        "5X7UZBS-nKJD",
        "rkqv7e6seN5j"
      ],
      "toc_visible": true
    },
    "kernelspec": {
      "name": "python3",
      "display_name": "Python 3"
    },
    "accelerator": "GPU"
  },
  "cells": [
    {
      "metadata": {
        "id": "bHM2LC5MzRVT",
        "colab_type": "text"
      },
      "cell_type": "markdown",
      "source": [
        "# Title\n",
        "\n",
        "https://towardsdatascience.com/a-simple-guide-to-the-versions-of-the-inception-network-7fc52b863202"
      ]
    },
    {
      "metadata": {
        "id": "kbVnsH1X0NIe",
        "colab_type": "text"
      },
      "cell_type": "markdown",
      "source": [
        "## Environment"
      ]
    },
    {
      "metadata": {
        "id": "zHHLTg0-h8Fn",
        "colab_type": "code",
        "colab": {}
      },
      "cell_type": "code",
      "source": [
        "#some dtype problem that came out only in 0.23 for get_dummies\n",
        "!pip3 install --upgrade pandas"
      ],
      "execution_count": 0,
      "outputs": []
    },
    {
      "metadata": {
        "id": "R8ITJf70erHr",
        "colab_type": "code",
        "colab": {}
      },
      "cell_type": "code",
      "source": [
        "from google.colab import files"
      ],
      "execution_count": 0,
      "outputs": []
    },
    {
      "metadata": {
        "id": "gNJYmsmAfEWH",
        "colab_type": "code",
        "outputId": "4b433f61-46ed-441a-be71-69d323ef46ae",
        "colab": {
          "resources": {
            "http://localhost:8080/nbextensions/google.colab/files.js": {
              "data": "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",
              "ok": true,
              "headers": [
                [
                  "content-type",
                  "application/javascript"
                ]
              ],
              "status": 200,
              "status_text": ""
            }
          },
          "base_uri": "https://localhost:8080/",
          "height": 69
        }
      },
      "cell_type": "code",
      "source": [
        "foo = files.upload()\n",
        "foo = None"
      ],
      "execution_count": 0,
      "outputs": [
        {
          "output_type": "display_data",
          "data": {
            "text/html": [
              "\n",
              "     <input type=\"file\" id=\"files-2b0dea4f-edf9-4859-88d2-d39af60b67a3\" name=\"files[]\" multiple disabled />\n",
              "     <output id=\"result-2b0dea4f-edf9-4859-88d2-d39af60b67a3\">\n",
              "      Upload widget is only available when the cell has been executed in the\n",
              "      current browser session. Please rerun this cell to enable.\n",
              "      </output>\n",
              "      <script src=\"/nbextensions/google.colab/files.js\"></script> "
            ],
            "text/plain": [
              "<IPython.core.display.HTML object>"
            ]
          },
          "metadata": {
            "tags": []
          }
        },
        {
          "output_type": "stream",
          "text": [
            "Saving kaggle.json to kaggle.json\n"
          ],
          "name": "stdout"
        }
      ]
    },
    {
      "metadata": {
        "id": "yZwwFTQHfH0S",
        "colab_type": "code",
        "colab": {}
      },
      "cell_type": "code",
      "source": [
        "!chmod 600 kaggle.json"
      ],
      "execution_count": 0,
      "outputs": []
    },
    {
      "metadata": {
        "id": "iAhceKB_fJTO",
        "colab_type": "code",
        "colab": {}
      },
      "cell_type": "code",
      "source": [
        "!mkdir /root/.kaggle\n",
        "!mv kaggle.json /root/.kaggle/kaggle.json"
      ],
      "execution_count": 0,
      "outputs": []
    },
    {
      "metadata": {
        "id": "oiuGyMwsfK1u",
        "colab_type": "code",
        "outputId": "ed823b01-8b2f-4c26-d403-69a1e39ec09a",
        "colab": {
          "base_uri": "https://localhost:8080/",
          "height": 170
        }
      },
      "cell_type": "code",
      "source": [
        "!kaggle competitions download -c 20-newsgroups-ciphertext-challenge"
      ],
      "execution_count": 0,
      "outputs": [
        {
          "output_type": "stream",
          "text": [
            "Downloading sample_submission.csv.zip to /content\n",
            "\r  0% 0.00/556k [00:00<?, ?B/s]\n",
            "100% 556k/556k [00:00<00:00, 35.9MB/s]\n",
            "Downloading test.csv.zip to /content\n",
            " 56% 9.00M/16.2M [00:00<00:00, 13.8MB/s]\n",
            "100% 16.2M/16.2M [00:00<00:00, 23.7MB/s]\n",
            "Downloading train.csv.zip to /content\n",
            " 72% 5.00M/6.98M [00:00<00:00, 16.6MB/s]\n",
            "100% 6.98M/6.98M [00:00<00:00, 20.0MB/s]\n"
          ],
          "name": "stdout"
        }
      ]
    },
    {
      "metadata": {
        "id": "7EBLufUUfMZk",
        "colab_type": "code",
        "outputId": "1e3fe0ca-8bda-4fea-f152-4fa7588f1ab3",
        "colab": {
          "base_uri": "https://localhost:8080/",
          "height": 85
        }
      },
      "cell_type": "code",
      "source": [
        "!unzip test.csv.zip\n",
        "!unzip train.csv.zip"
      ],
      "execution_count": 0,
      "outputs": [
        {
          "output_type": "stream",
          "text": [
            "Archive:  test.csv.zip\n",
            "  inflating: test.csv                \n",
            "Archive:  train.csv.zip\n",
            "  inflating: train.csv               \n"
          ],
          "name": "stdout"
        }
      ]
    },
    {
      "metadata": {
        "id": "KJ0aEt64fNxu",
        "colab_type": "code",
        "colab": {}
      },
      "cell_type": "code",
      "source": [
        "!rm /root/.kaggle/kaggle.json"
      ],
      "execution_count": 0,
      "outputs": []
    },
    {
      "metadata": {
        "id": "Uf6eRteTfW1g",
        "colab_type": "code",
        "outputId": "234031ff-b03f-43fa-ef56-390e7e6596cc",
        "colab": {
          "base_uri": "https://localhost:8080/",
          "height": 51
        }
      },
      "cell_type": "code",
      "source": [
        "!ls"
      ],
      "execution_count": 0,
      "outputs": [
        {
          "output_type": "stream",
          "text": [
            "sample_data\t\t   test.csv\t train.csv\n",
            "sample_submission.csv.zip  test.csv.zip  train.csv.zip\n"
          ],
          "name": "stdout"
        }
      ]
    },
    {
      "metadata": {
        "id": "QzO3mRPkz7z9",
        "colab_type": "text"
      },
      "cell_type": "markdown",
      "source": [
        "## Model"
      ]
    },
    {
      "metadata": {
        "id": "uAeocOxOU5Tm",
        "colab_type": "code",
        "colab": {}
      },
      "cell_type": "code",
      "source": [
        "import pandas as pd\n",
        "import numpy as np"
      ],
      "execution_count": 0,
      "outputs": []
    },
    {
      "metadata": {
        "id": "B_UxjCgKUwlO",
        "colab_type": "code",
        "outputId": "f50f7b81-2f3e-41f7-a6c2-08558c4c436b",
        "colab": {
          "base_uri": "https://localhost:8080/",
          "height": 34
        }
      },
      "cell_type": "code",
      "source": [
        "import keras.layers as KL\n",
        "from keras.models import Model\n",
        "from keras.applications.inception_resnet_v2 import InceptionResNetV2"
      ],
      "execution_count": 0,
      "outputs": [
        {
          "output_type": "stream",
          "text": [
            "Using TensorFlow backend.\n"
          ],
          "name": "stderr"
        }
      ]
    },
    {
      "metadata": {
        "id": "OmC7aXi9VCrq",
        "colab_type": "code",
        "colab": {}
      },
      "cell_type": "code",
      "source": [
        "input_tensor = KL.Input((300,128,1), name='input_tensor')\n",
        "triple_tensor = KL.Concatenate(name='triple_tensor')([input_tensor, input_tensor, input_tensor])\n",
        "\n",
        "input_diff = KL.Input((4,), name='input_diff')"
      ],
      "execution_count": 0,
      "outputs": []
    },
    {
      "metadata": {
        "id": "BdOndOAqX9Uw",
        "colab_type": "code",
        "colab": {}
      },
      "cell_type": "code",
      "source": [
        "inception_model = InceptionResNetV2(include_top=False,\n",
        "                      weights='imagenet',\n",
        "                      input_tensor=None,\n",
        "                      input_shape=(300, 128, 3),\n",
        "                      pooling='avg',\n",
        "                      classes=20)(triple_tensor)\n",
        "#classes arg probably not needed\n",
        "#pooling based on default if top was included, don't know if avg is good"
      ],
      "execution_count": 0,
      "outputs": []
    },
    {
      "metadata": {
        "id": "epl45F78X9rE",
        "colab_type": "code",
        "outputId": "6e10e2b8-9b6a-4728-b3fc-257a5eddc09b",
        "colab": {
          "base_uri": "https://localhost:8080/",
          "height": 493
        }
      },
      "cell_type": "code",
      "source": [
        "x = KL.Dropout(rate=0.2, name='drop0')(inception_model)\n",
        "x = KL.Concatenate(name='concat0')([x, input_diff])\n",
        "x = KL.Dense(20, activation='relu', name='dense0')(x)\n",
        "x = KL.Dropout(rate=0.2, name='drop1')(x)\n",
        "prediction = KL.Dense(20, activation='softmax', name='predictions')(x)\n",
        "model = Model(inputs=[input_tensor, input_diff], outputs=[prediction])\n",
        "model.summary()"
      ],
      "execution_count": 0,
      "outputs": [
        {
          "output_type": "stream",
          "text": [
            "__________________________________________________________________________________________________\n",
            "Layer (type)                    Output Shape         Param #     Connected to                     \n",
            "==================================================================================================\n",
            "input_tensor (InputLayer)       (None, 300, 128, 1)  0                                            \n",
            "__________________________________________________________________________________________________\n",
            "triple_tensor (Concatenate)     (None, 300, 128, 3)  0           input_tensor[0][0]               \n",
            "                                                                 input_tensor[0][0]               \n",
            "                                                                 input_tensor[0][0]               \n",
            "__________________________________________________________________________________________________\n",
            "inception_resnet_v2 (Model)     (None, 1536)         54336736    triple_tensor[0][0]              \n",
            "__________________________________________________________________________________________________\n",
            "drop0 (Dropout)                 (None, 1536)         0           inception_resnet_v2[1][0]        \n",
            "__________________________________________________________________________________________________\n",
            "input_diff (InputLayer)         (None, 4)            0                                            \n",
            "__________________________________________________________________________________________________\n",
            "concat0 (Concatenate)           (None, 1540)         0           drop0[0][0]                      \n",
            "                                                                 input_diff[0][0]                 \n",
            "__________________________________________________________________________________________________\n",
            "dense0 (Dense)                  (None, 20)           30820       concat0[0][0]                    \n",
            "__________________________________________________________________________________________________\n",
            "drop1 (Dropout)                 (None, 20)           0           dense0[0][0]                     \n",
            "__________________________________________________________________________________________________\n",
            "predictions (Dense)             (None, 20)           420         drop1[0][0]                      \n",
            "==================================================================================================\n",
            "Total params: 54,367,976\n",
            "Trainable params: 54,307,432\n",
            "Non-trainable params: 60,544\n",
            "__________________________________________________________________________________________________\n"
          ],
          "name": "stdout"
        }
      ]
    },
    {
      "metadata": {
        "id": "pqQhnzj26v-C",
        "colab_type": "text"
      },
      "cell_type": "markdown",
      "source": [
        "import weights (if desired)"
      ]
    },
    {
      "metadata": {
        "id": "SGVplGPo2Bxg",
        "colab_type": "code",
        "colab": {}
      },
      "cell_type": "code",
      "source": [
        "from google.colab import auth\n",
        "auth.authenticate_user()\n",
        "from googleapiclient.discovery import build\n",
        "drive_service = build('drive', 'v3')"
      ],
      "execution_count": 0,
      "outputs": []
    },
    {
      "metadata": {
        "id": "oKwMWte62Pz3",
        "colab_type": "code",
        "colab": {}
      },
      "cell_type": "code",
      "source": [
        "import io\n",
        "from googleapiclient.http import MediaIoBaseDownload"
      ],
      "execution_count": 0,
      "outputs": []
    },
    {
      "metadata": {
        "id": "xNIBQY_L0hCW",
        "colab_type": "code",
        "colab": {}
      },
      "cell_type": "code",
      "source": [
        "file_id = 'YOUR_WEIGHT_ID'\n",
        "request = drive_service.files().get_media(fileId=file_id)\n",
        "#fh = io.BytesIO()\n",
        "fh = io.FileIO('first_weights.h5', mode='w')\n",
        "downloader = MediaIoBaseDownload(fh, request)\n",
        "done = False\n",
        "while done is False:\n",
        "    status, done = downloader.next_chunk()"
      ],
      "execution_count": 0,
      "outputs": []
    },
    {
      "metadata": {
        "id": "kUmbKBhuAlZY",
        "colab_type": "code",
        "colab": {}
      },
      "cell_type": "code",
      "source": [
        "model.load_weights('logs/weights.02-3.00.hdf5', by_name=True)"
      ],
      "execution_count": 0,
      "outputs": []
    },
    {
      "metadata": {
        "id": "7I7g5KXR6sHr",
        "colab_type": "text"
      },
      "cell_type": "markdown",
      "source": [
        "sanity check start"
      ]
    },
    {
      "metadata": {
        "id": "YNDvg-V13kV3",
        "colab_type": "code",
        "colab": {}
      },
      "cell_type": "code",
      "source": [
        "!ls -l"
      ],
      "execution_count": 0,
      "outputs": []
    },
    {
      "metadata": {
        "id": "JRlPu-1O6q7V",
        "colab_type": "code",
        "colab": {}
      },
      "cell_type": "code",
      "source": [
        "!rm test.h5"
      ],
      "execution_count": 0,
      "outputs": []
    },
    {
      "metadata": {
        "id": "l7RokcI1683B",
        "colab_type": "code",
        "colab": {}
      },
      "cell_type": "code",
      "source": [
        "!cat adc.json"
      ],
      "execution_count": 0,
      "outputs": []
    },
    {
      "metadata": {
        "id": "OSb3uq_J1QcP",
        "colab_type": "code",
        "colab": {}
      },
      "cell_type": "code",
      "source": [
        "model.load_weights('first_weights.h5')#, by_name=True)"
      ],
      "execution_count": 0,
      "outputs": []
    },
    {
      "metadata": {
        "id": "hqDAEPlo3PiG",
        "colab_type": "code",
        "colab": {}
      },
      "cell_type": "code",
      "source": [
        "model.save_weights('test.h5')"
      ],
      "execution_count": 0,
      "outputs": []
    },
    {
      "metadata": {
        "id": "XiuDHD2W3TZp",
        "colab_type": "code",
        "colab": {}
      },
      "cell_type": "code",
      "source": [
        "model.load_weights('test.h5')"
      ],
      "execution_count": 0,
      "outputs": []
    },
    {
      "metadata": {
        "id": "2WoFqvta6uF_",
        "colab_type": "text"
      },
      "cell_type": "markdown",
      "source": [
        "sanity check end"
      ]
    },
    {
      "metadata": {
        "id": "tj_roXNwgrgM",
        "colab_type": "code",
        "colab": {}
      },
      "cell_type": "code",
      "source": [
        "import re"
      ],
      "execution_count": 0,
      "outputs": []
    },
    {
      "metadata": {
        "id": "0evq7OxUYKIk",
        "colab_type": "code",
        "colab": {}
      },
      "cell_type": "code",
      "source": [
        "class SetTrainable(object):\n",
        "\n",
        "  def __init__(self, model):\n",
        "    self.keras_model = model\n",
        "\n",
        "  def set_trainable(self, layer_regex, keras_model=None, indent=0, verbose=1):\n",
        "    \"\"\"Sets model layers as trainable if their names match\n",
        "    the given regular expression.\n",
        "    \"\"\"\n",
        "    # Print message on the first call (but not on recursive calls)\n",
        "    if verbose > 0 and keras_model is None:\n",
        "      print(\"Selecting layers to train\")\n",
        "\n",
        "    keras_model = keras_model or self.keras_model\n",
        "\n",
        "    # In multi-GPU training, we wrap the model. Get layers\n",
        "    # of the inner model because they have the weights.\n",
        "    layers = keras_model.inner_model.layers if hasattr(keras_model, \"inner_model\")\\\n",
        "      else keras_model.layers\n",
        "\n",
        "    for layer in layers:\n",
        "      # Is the layer a model?\n",
        "      if layer.__class__.__name__ == 'Model':\n",
        "        print(\"In model: \", layer.name)\n",
        "        self.set_trainable(\n",
        "            layer_regex, keras_model=layer, indent=indent + 4)\n",
        "        continue\n",
        "\n",
        "      if not layer.weights:\n",
        "        continue\n",
        "      # Is it trainable?\n",
        "      trainable = bool(re.fullmatch(layer_regex, layer.name))\n",
        "      # Update layer. If layer is a container, update inner layer.\n",
        "      if layer.__class__.__name__ == 'TimeDistributed':\n",
        "        layer.layer.trainable = trainable\n",
        "      else:\n",
        "        layer.trainable = trainable\n",
        "      # Print trainable layer names\n",
        "      if trainable and verbose > 0:\n",
        "        print(\"{}{:20}   ({})\".format(\" \" * indent, layer.name,\n",
        "                                    layer.__class__.__name__))"
      ],
      "execution_count": 0,
      "outputs": []
    },
    {
      "metadata": {
        "id": "_WdNkOKMK_Gi",
        "colab_type": "text"
      },
      "cell_type": "markdown",
      "source": [
        "incorrect output:"
      ]
    },
    {
      "metadata": {
        "id": "AD0cLCaHZfLP",
        "colab_type": "code",
        "outputId": "5f7d840d-77e8-4bd6-9ddd-a3d0da6894b5",
        "colab": {
          "base_uri": "https://localhost:8080/",
          "height": 221
        }
      },
      "cell_type": "code",
      "source": [
        "foo = SetTrainable(model)\n",
        "foo.set_trainable(r'(predictions)|(dense0)|(conv2d_20\\d)|(block8_10_conv)|(conv_7b)')\n",
        "foo = None"
      ],
      "execution_count": 0,
      "outputs": [
        {
          "output_type": "stream",
          "text": [
            "Selecting layers to train\n",
            "In model:  inception_resnet_v2\n",
            "    conv2d_204             (Conv2D)\n",
            "    conv2d_205             (Conv2D)\n",
            "    conv2d_206             (Conv2D)\n",
            "    conv2d_207             (Conv2D)\n",
            "    conv2d_208             (Conv2D)\n",
            "    conv2d_209             (Conv2D)\n",
            "    block8_10_conv         (Conv2D)\n",
            "    conv_7b                (Conv2D)\n",
            "dense0                 (Dense)\n",
            "predictions            (Dense)\n"
          ],
          "name": "stdout"
        }
      ]
    },
    {
      "metadata": {
        "id": "uN_8JvhM9nt7",
        "colab_type": "text"
      },
      "cell_type": "markdown",
      "source": [
        "correct output:\n",
        "\n",
        "Selecting layers to train\n",
        "\n",
        "In model:  inception_resnet_v2\n",
        "\n",
        "    conv2d_201             (Conv2D)\n",
        "    conv2d_202             (Conv2D)\n",
        "    conv2d_200             (Conv2D)\n",
        "    conv2d_203             (Conv2D)\n",
        "    block8_10_conv         (Conv2D)\n",
        "    conv_7b                (Conv2D)\n",
        "dense0                 (Dense)\n",
        "\n",
        "predictions            (Dense)"
      ]
    },
    {
      "metadata": {
        "id": "AeJljiWR9AaW",
        "colab_type": "code",
        "outputId": "dad28ec2-7f71-4a6f-90b3-42653ee0061d",
        "colab": {
          "base_uri": "https://localhost:8080/",
          "height": 187
        }
      },
      "cell_type": "code",
      "source": [
        "foo = SetTrainable(model)\n",
        "foo.set_trainable(r'(predictions)|(dense0)|(conv2d_20\\d)|(block8_10_conv)|(conv_7b)')\n",
        "foo = None"
      ],
      "execution_count": 0,
      "outputs": [
        {
          "output_type": "stream",
          "text": [
            "Selecting layers to train\n",
            "In model:  inception_resnet_v2\n",
            "    conv2d_201             (Conv2D)\n",
            "    conv2d_202             (Conv2D)\n",
            "    conv2d_200             (Conv2D)\n",
            "    conv2d_203             (Conv2D)\n",
            "    block8_10_conv         (Conv2D)\n",
            "    conv_7b                (Conv2D)\n",
            "dense0                 (Dense)\n",
            "predictions            (Dense)\n"
          ],
          "name": "stdout"
        }
      ]
    },
    {
      "metadata": {
        "id": "3gpDb7dD5aCW",
        "colab_type": "code",
        "colab": {}
      },
      "cell_type": "code",
      "source": [
        "foo = SetTrainable(model)\n",
        "foo.set_trainable(r'(predictions)|(dense0)')\n",
        "foo = None"
      ],
      "execution_count": 0,
      "outputs": []
    },
    {
      "metadata": {
        "id": "45HX1qDXapsW",
        "colab_type": "text"
      },
      "cell_type": "markdown",
      "source": [
        "## Data\n",
        "\n",
        "https://stanford.edu/~shervine/blog/keras-how-to-generate-data-on-the-fly\n",
        "\n",
        "https://stackoverflow.com/questions/15943769/how-do-i-get-the-row-count-of-a-pandas-dataframe"
      ]
    },
    {
      "metadata": {
        "id": "pXX7x74pfAxe",
        "colab_type": "code",
        "colab": {}
      },
      "cell_type": "code",
      "source": [
        "train = pd.read_csv('train.csv')"
      ],
      "execution_count": 0,
      "outputs": []
    },
    {
      "metadata": {
        "id": "nFkfdpSnngK8",
        "colab_type": "code",
        "colab": {}
      },
      "cell_type": "code",
      "source": [
        "from sklearn.model_selection import train_test_split"
      ],
      "execution_count": 0,
      "outputs": []
    },
    {
      "metadata": {
        "id": "Kh8o22RXnfX4",
        "colab_type": "code",
        "colab": {}
      },
      "cell_type": "code",
      "source": [
        "train_train, train_test = train_test_split(train, test_size=0.1, random_state=42)"
      ],
      "execution_count": 0,
      "outputs": []
    },
    {
      "metadata": {
        "id": "wOxe3N03gzk_",
        "colab_type": "code",
        "colab": {}
      },
      "cell_type": "code",
      "source": [
        "import keras.utils"
      ],
      "execution_count": 0,
      "outputs": []
    },
    {
      "metadata": {
        "id": "I4vptsfEZ2AD",
        "colab_type": "code",
        "colab": {}
      },
      "cell_type": "code",
      "source": [
        "class DataGenerator(keras.utils.Sequence):\n",
        "\n",
        "  def __init__(self, df):\n",
        "    \n",
        "    self.length = len(df.index)\n",
        "    print(self.length)\n",
        "\n",
        "    self.ciphertexts = self._transform_ciphers(df['ciphertext'])\n",
        "    \n",
        "    self.difficulties =  pd.get_dummies(df['difficulty'], dtype='float32').values\n",
        "    \n",
        "    self.labels = pd.get_dummies(df['target'], dtype='float32').values\n",
        "    \n",
        "    #self.X = np.empty((1, 300, 128, 1), dtype='float32')\n",
        "    self.m_arange = np.arange(300)\n",
        "  \n",
        "  def _transform_ciphers(self, series):\n",
        "    \n",
        "    #print(series.shape)\n",
        "    np_inputs = np.zeros((self.length, 300), dtype=np.byte)\n",
        "    #for i, e in series.iteritems():\n",
        "    i=0\n",
        "    for _, e in series.iteritems():\n",
        "\n",
        "      encoded = e.encode(\"ascii\", errors='strict')\n",
        "      np_enc = np.frombuffer(encoded, dtype=np.byte)\n",
        "      how_big = np_enc.shape[0]\n",
        "      np_inputs[i, :how_big] = np_enc\n",
        "      \n",
        "      i+=1\n",
        "      \n",
        "    return np_inputs\n",
        "\n",
        "  def __len__(self):\n",
        "    \n",
        "    return self.length\n",
        "\n",
        "  def __getitem__(self, index):\n",
        "    \n",
        "    #self.X[...] = 0\n",
        "    #print(self.m_arange)\n",
        "    X = np.zeros((1, 300, 128, 1), dtype='float32')\n",
        "    X[0, self.m_arange, self.ciphertexts[index], 0] = 1\n",
        "    return ([X, self.difficulties[index][np.newaxis]],\n",
        "            self.labels[index][np.newaxis])"
      ],
      "execution_count": 0,
      "outputs": []
    },
    {
      "metadata": {
        "id": "dVtK3021zPeV",
        "colab_type": "text"
      },
      "cell_type": "markdown",
      "source": [
        "## Sanity Check\n",
        "\n",
        "stop"
      ]
    },
    {
      "metadata": {
        "id": "VVGuhOhfgBGb",
        "colab_type": "code",
        "colab": {}
      },
      "cell_type": "code",
      "source": [
        "dG = DataGenerator(train)"
      ],
      "execution_count": 0,
      "outputs": []
    },
    {
      "metadata": {
        "id": "hzaPkGC0g6Fu",
        "colab_type": "code",
        "outputId": "ea83cf37-b8e3-4a6a-a33e-86f385f94a55",
        "colab": {
          "base_uri": "https://localhost:8080/",
          "height": 34
        }
      },
      "cell_type": "code",
      "source": [
        "lmao = dG[0]\n",
        "type(lmao)"
      ],
      "execution_count": 0,
      "outputs": [
        {
          "output_type": "execute_result",
          "data": {
            "text/plain": [
              "tuple"
            ]
          },
          "metadata": {
            "tags": []
          },
          "execution_count": 29
        }
      ]
    },
    {
      "metadata": {
        "id": "RvdKbOk5jXLV",
        "colab_type": "code",
        "outputId": "2a5eb568-02f0-4086-f18a-c4398357cf8d",
        "colab": {
          "base_uri": "https://localhost:8080/",
          "height": 68
        }
      },
      "cell_type": "code",
      "source": [
        "print(type(lmao[0]))\n",
        "print(type(lmao[1]))\n",
        "print(len(lmao[0]))"
      ],
      "execution_count": 0,
      "outputs": [
        {
          "output_type": "stream",
          "text": [
            "<class 'list'>\n",
            "<class 'numpy.ndarray'>\n",
            "2\n"
          ],
          "name": "stdout"
        }
      ]
    },
    {
      "metadata": {
        "id": "2zJ7DE2SjZn9",
        "colab_type": "code",
        "outputId": "2ea348bc-0a2e-4010-b3c8-83995c15b2ae",
        "colab": {
          "base_uri": "https://localhost:8080/",
          "height": 51
        }
      },
      "cell_type": "code",
      "source": [
        "#print(lmao[0][0])\n",
        "print(lmao[0][0].shape)\n",
        "lmao[0][0].dtype"
      ],
      "execution_count": 0,
      "outputs": [
        {
          "output_type": "stream",
          "text": [
            "(1, 300, 128, 1)\n"
          ],
          "name": "stdout"
        },
        {
          "output_type": "execute_result",
          "data": {
            "text/plain": [
              "dtype('float32')"
            ]
          },
          "metadata": {
            "tags": []
          },
          "execution_count": 42
        }
      ]
    },
    {
      "metadata": {
        "id": "wA5EvC0hjxpJ",
        "colab_type": "code",
        "outputId": "03bcfd2c-efb5-4850-90c5-72ed85a4828c",
        "colab": {
          "base_uri": "https://localhost:8080/",
          "height": 119
        }
      },
      "cell_type": "code",
      "source": [
        "print(lmao[0][0][0, 0, :, 0])"
      ],
      "execution_count": 0,
      "outputs": [
        {
          "output_type": "stream",
          "text": [
            "[0. 0. 0. 0. 0. 0. 0. 0. 0. 0. 0. 0. 0. 0. 0. 0. 0. 0. 0. 0. 0. 0. 0. 0.\n",
            " 0. 0. 0. 0. 0. 0. 0. 0. 0. 0. 0. 0. 0. 0. 0. 0. 0. 0. 0. 0. 0. 0. 0. 0.\n",
            " 0. 0. 0. 0. 0. 0. 0. 0. 0. 0. 0. 0. 0. 0. 0. 0. 0. 0. 0. 0. 0. 0. 0. 0.\n",
            " 0. 0. 0. 0. 0. 0. 0. 0. 0. 0. 0. 0. 0. 0. 0. 0. 0. 0. 0. 0. 0. 0. 0. 0.\n",
            " 0. 0. 0. 0. 0. 0. 0. 0. 0. 0. 0. 0. 0. 0. 0. 1. 0. 0. 0. 0. 0. 0. 0. 0.\n",
            " 0. 0. 0. 0. 0. 0. 0. 0.]\n"
          ],
          "name": "stdout"
        }
      ]
    },
    {
      "metadata": {
        "id": "0sGQUKJphK6U",
        "colab_type": "code",
        "outputId": "e750ca1f-34e6-4cf2-9f2a-b708a39acd32",
        "colab": {
          "base_uri": "https://localhost:8080/",
          "height": 68
        }
      },
      "cell_type": "code",
      "source": [
        "print(lmao[0][1])\n",
        "print(lmao[0][1].shape)\n",
        "lmao[0][1].dtype"
      ],
      "execution_count": 0,
      "outputs": [
        {
          "output_type": "stream",
          "text": [
            "[[0. 0. 0. 1.]]\n",
            "(1, 4)\n"
          ],
          "name": "stdout"
        },
        {
          "output_type": "execute_result",
          "data": {
            "text/plain": [
              "dtype('float32')"
            ]
          },
          "metadata": {
            "tags": []
          },
          "execution_count": 41
        }
      ]
    },
    {
      "metadata": {
        "id": "MIbUb5zcjX0c",
        "colab_type": "code",
        "colab": {}
      },
      "cell_type": "code",
      "source": [
        "%matplotlib inline\n",
        "import matplotlib.pyplot as plt"
      ],
      "execution_count": 0,
      "outputs": []
    },
    {
      "metadata": {
        "id": "nU0hpChikyAi",
        "colab_type": "code",
        "outputId": "363346ae-416c-4171-99ca-f240374b3efb",
        "colab": {
          "base_uri": "https://localhost:8080/",
          "height": 286
        }
      },
      "cell_type": "code",
      "source": [
        "plt.imshow(lmao[0][0][0, :, :, 0])"
      ],
      "execution_count": 0,
      "outputs": [
        {
          "output_type": "execute_result",
          "data": {
            "text/plain": [
              "<matplotlib.image.AxesImage at 0x7fd06e034438>"
            ]
          },
          "metadata": {
            "tags": []
          },
          "execution_count": 44
        },
        {
          "output_type": "display_data",
          "data": {
            "image/png": "[encoded data removed]",
            "text/plain": [
              "<matplotlib.figure.Figure at 0x7fd06e071d30>"
            ]
          },
          "metadata": {
            "tags": []
          }
        }
      ]
    },
    {
      "metadata": {
        "id": "abGTu0ahk1gT",
        "colab_type": "code",
        "colab": {}
      },
      "cell_type": "code",
      "source": [
        "import skimage.io"
      ],
      "execution_count": 0,
      "outputs": []
    },
    {
      "metadata": {
        "id": "IbIpvf4FlPbB",
        "colab_type": "code",
        "outputId": "94cea713-9a96-4130-94f7-35f3352ace50",
        "colab": {
          "base_uri": "https://localhost:8080/",
          "height": 85
        }
      },
      "cell_type": "code",
      "source": [
        "skimage.io.imsave('lmao.png', lmao[0][0][0, :, :, 0])"
      ],
      "execution_count": 0,
      "outputs": [
        {
          "output_type": "stream",
          "text": [
            "/usr/local/lib/python3.6/dist-packages/skimage/io/_io.py:132: UserWarning: lmao.png is a low contrast image\n",
            "  warn('%s is a low contrast image' % fname)\n",
            "/usr/local/lib/python3.6/dist-packages/skimage/util/dtype.py:122: UserWarning: Possible precision loss when converting from float32 to uint16\n",
            "  .format(dtypeobj_in, dtypeobj_out))\n"
          ],
          "name": "stderr"
        }
      ]
    },
    {
      "metadata": {
        "id": "gjmMRmwOlULJ",
        "colab_type": "code",
        "colab": {}
      },
      "cell_type": "code",
      "source": [
        "files.download('lmao.png')"
      ],
      "execution_count": 0,
      "outputs": []
    },
    {
      "metadata": {
        "id": "5X7UZBS-nKJD",
        "colab_type": "text"
      },
      "cell_type": "markdown",
      "source": [
        "## Training\n",
        "\n",
        "start the training"
      ]
    },
    {
      "metadata": {
        "id": "qE0GdQ3goFpM",
        "colab_type": "code",
        "outputId": "8067f60b-44ef-4b2d-daec-6ce55c7f5dea",
        "colab": {
          "base_uri": "https://localhost:8080/",
          "height": 34
        }
      },
      "cell_type": "code",
      "source": [
        "train_gen = DataGenerator(train_train)"
      ],
      "execution_count": 0,
      "outputs": [
        {
          "output_type": "stream",
          "text": [
            "35146\n"
          ],
          "name": "stdout"
        }
      ]
    },
    {
      "metadata": {
        "id": "LqcEUh2JoF5E",
        "colab_type": "code",
        "outputId": "f6e6f61c-8a99-4f92-9255-02649df959b0",
        "colab": {
          "base_uri": "https://localhost:8080/",
          "height": 34
        }
      },
      "cell_type": "code",
      "source": [
        "test_gen = DataGenerator(train_test)"
      ],
      "execution_count": 0,
      "outputs": [
        {
          "output_type": "stream",
          "text": [
            "3906\n"
          ],
          "name": "stdout"
        }
      ]
    },
    {
      "metadata": {
        "id": "65BErWyBoF7y",
        "colab_type": "code",
        "colab": {}
      },
      "cell_type": "code",
      "source": [
        "model.compile(optimizer='rmsprop',\n",
        "              loss='categorical_crossentropy',\n",
        "              metrics=['accuracy'])"
      ],
      "execution_count": 0,
      "outputs": []
    },
    {
      "metadata": {
        "id": "-WEz7dcZqTLE",
        "colab_type": "code",
        "colab": {}
      },
      "cell_type": "code",
      "source": [
        "import keras.callbacks as KC"
      ],
      "execution_count": 0,
      "outputs": []
    },
    {
      "metadata": {
        "id": "zZhnzSCCqWNm",
        "colab_type": "code",
        "outputId": "7d4da551-ac48-493b-ed63-512b3caad954",
        "colab": {
          "base_uri": "https://localhost:8080/",
          "height": 34
        }
      },
      "cell_type": "code",
      "source": [
        "!mkdir logs"
      ],
      "execution_count": 0,
      "outputs": [
        {
          "output_type": "stream",
          "text": [
            "mkdir: cannot create directory ‘logs’: File exists\n"
          ],
          "name": "stdout"
        }
      ]
    },
    {
      "metadata": {
        "id": "3mwV-4t3qREB",
        "colab_type": "code",
        "colab": {}
      },
      "cell_type": "code",
      "source": [
        "checkpt = KC.ModelCheckpoint('logs/weights.{epoch:02d}-{val_loss:.2f}.hdf5', monitor='val_loss', verbose=0, save_best_only=False, save_weights_only=True, mode='auto', period=1)"
      ],
      "execution_count": 0,
      "outputs": []
    },
    {
      "metadata": {
        "id": "tiEMn6R3rYe8",
        "colab_type": "code",
        "colab": {}
      },
      "cell_type": "code",
      "source": [
        "import multiprocessing"
      ],
      "execution_count": 0,
      "outputs": []
    },
    {
      "metadata": {
        "id": "1-NKnS1yrxrl",
        "colab_type": "code",
        "outputId": "0abc1c05-4474-459e-8f70-e08df535cf1f",
        "colab": {
          "base_uri": "https://localhost:8080/",
          "height": 34
        }
      },
      "cell_type": "code",
      "source": [
        "workers = multiprocessing.cpu_count()\n",
        "workers"
      ],
      "execution_count": 0,
      "outputs": [
        {
          "output_type": "execute_result",
          "data": {
            "text/plain": [
              "2"
            ]
          },
          "metadata": {
            "tags": []
          },
          "execution_count": 23
        }
      ]
    },
    {
      "metadata": {
        "id": "IPhU6hOv991v",
        "colab_type": "code",
        "colab": {}
      },
      "cell_type": "code",
      "source": [
        "epoch = 0"
      ],
      "execution_count": 0,
      "outputs": []
    },
    {
      "metadata": {
        "id": "AcdcsOcwldzp",
        "colab_type": "code",
        "outputId": "0bfe0e97-42d8-4ae6-bb75-8686707ebe52",
        "colab": {
          "base_uri": "https://localhost:8080/",
          "height": 88
        }
      },
      "cell_type": "code",
      "source": [
        "hist = model.fit_generator(generator=train_gen, epochs=epoch+1, verbose=1,\n",
        "                           callbacks=[checkpt], validation_data=test_gen,\n",
        "                           shuffle=True, initial_epoch=epoch, workers=workers,\n",
        "                           max_queue_size=100, use_multiprocessing=True)\n",
        "epoch += 1\n",
        "epoch"
      ],
      "execution_count": 0,
      "outputs": [
        {
          "output_type": "stream",
          "text": [
            "Epoch 2/2\n",
            "35146/35146 [==============================] - 6593s 188ms/step - loss: 2.9821 - acc: 0.0814 - val_loss: 2.9974 - val_acc: 0.0748\n"
          ],
          "name": "stdout"
        },
        {
          "output_type": "execute_result",
          "data": {
            "text/plain": [
              "2"
            ]
          },
          "metadata": {
            "tags": []
          },
          "execution_count": 27
        }
      ]
    },
    {
      "metadata": {
        "id": "LheyF3B2-JyK",
        "colab_type": "code",
        "colab": {}
      },
      "cell_type": "code",
      "source": [
        "hist"
      ],
      "execution_count": 0,
      "outputs": []
    },
    {
      "metadata": {
        "id": "_kE5WDmRrwuO",
        "colab_type": "code",
        "outputId": "b26a434b-f3e8-4fe1-9d86-77b4be09c05e",
        "colab": {
          "base_uri": "https://localhost:8080/",
          "height": 68
        }
      },
      "cell_type": "code",
      "source": [
        "!ls -l logs"
      ],
      "execution_count": 0,
      "outputs": [
        {
          "output_type": "stream",
          "text": [
            "total 426352\n",
            "-rw-r--r-- 1 root root 218290640 Dec 23 19:34 weights.01-2.99.hdf5\n",
            "-rw-r--r-- 1 root root 218290640 Dec 23 21:31 weights.02-3.00.hdf5\n"
          ],
          "name": "stdout"
        }
      ]
    },
    {
      "metadata": {
        "id": "AT30yTpaFqY2",
        "colab_type": "code",
        "colab": {}
      },
      "cell_type": "code",
      "source": [
        "model.save_weights('first.hdf5')"
      ],
      "execution_count": 0,
      "outputs": []
    },
    {
      "metadata": {
        "id": "zupk2_2FGB_A",
        "colab_type": "code",
        "outputId": "9cdaac11-f81c-4dd1-dc91-90c7e3966661",
        "colab": {
          "base_uri": "https://localhost:8080/",
          "height": 204
        }
      },
      "cell_type": "code",
      "source": [
        "!ls -l"
      ],
      "execution_count": 0,
      "outputs": [
        {
          "output_type": "stream",
          "text": [
            "total 277584\n",
            "-rw-r--r-- 1 root root      2631 Dec 23 16:14 adc.json\n",
            "-rw-r--r-- 1 root root 218290056 Dec 23 16:15 first_weights.h5\n",
            "drwxr-xr-x 2 root root      4096 Dec 23 21:31 logs\n",
            "-rw-r--r-- 1 root root   2465632 Dec 23 16:38 model.png\n",
            "drwxr-xr-x 1 root root      4096 Dec 18 20:29 sample_data\n",
            "-rw-r--r-- 1 root root    569537 Dec 23 16:11 sample_submission.csv.zip\n",
            "---------- 1 root root  26957509 Dec 13 17:27 test.csv\n",
            "-rw-r--r-- 1 root root  16987515 Dec 23 16:11 test.csv.zip\n",
            "---------- 1 root root  11635300 Dec 13 17:27 train.csv\n",
            "-rw-r--r-- 1 root root   7314592 Dec 23 16:11 train.csv.zip\n"
          ],
          "name": "stdout"
        }
      ]
    },
    {
      "metadata": {
        "id": "k-BrN-_YGEDT",
        "colab_type": "code",
        "colab": {}
      },
      "cell_type": "code",
      "source": [
        "from google.colab import auth\n",
        "auth.authenticate_user()\n",
        "from googleapiclient.discovery import build\n",
        "drive_service = build('drive', 'v3')"
      ],
      "execution_count": 0,
      "outputs": []
    },
    {
      "metadata": {
        "id": "dEnZA9cOGjUr",
        "colab_type": "code",
        "outputId": "db0f6541-852e-40ff-aaf6-27ba16d8bb74",
        "colab": {
          "base_uri": "https://localhost:8080/",
          "height": 34
        }
      },
      "cell_type": "code",
      "source": [
        "# Upload the file to Drive. See:\n",
        "#\n",
        "# https://developers.google.com/drive/v3/reference/files/create\n",
        "# https://developers.google.com/drive/v3/web/manage-uploads\n",
        "from googleapiclient.http import MediaFileUpload\n",
        "\n",
        "file_metadata = {\n",
        "  'name': 'newsgroup_2.h5',\n",
        "  'mimeType': 'application/x-hdf5'\n",
        "}\n",
        "media = MediaFileUpload('logs/weights.02-3.00.hdf5', \n",
        "                        mimetype='application/x-hdf5',\n",
        "                        resumable=True)\n",
        "created = drive_service.files().create(body=file_metadata,\n",
        "                                       media_body=media,\n",
        "                                       fields='id').execute()\n",
        "print('File ID: {}'.format(created.get('id')))"
      ],
      "execution_count": 0,
      "outputs": [
        {
          "output_type": "stream",
          "text": [
            "File ID: 1AX1ohUoMWym3WMJQTUSrDINgcSNjivrv\n"
          ],
          "name": "stdout"
        }
      ]
    },
    {
      "metadata": {
        "id": "sY00lIoMHJX8",
        "colab_type": "code",
        "colab": {}
      },
      "cell_type": "code",
      "source": [
        "from keras.utils import plot_model"
      ],
      "execution_count": 0,
      "outputs": []
    },
    {
      "metadata": {
        "id": "v9CerpvI7XLb",
        "colab_type": "code",
        "colab": {}
      },
      "cell_type": "code",
      "source": [
        "plot_model(model, to_file='model.png')"
      ],
      "execution_count": 0,
      "outputs": []
    },
    {
      "metadata": {
        "id": "YeIyJaux7Yc7",
        "colab_type": "code",
        "colab": {}
      },
      "cell_type": "code",
      "source": [
        "from google.colab import files"
      ],
      "execution_count": 0,
      "outputs": []
    },
    {
      "metadata": {
        "id": "vk14Bk-R7cbi",
        "colab_type": "code",
        "colab": {}
      },
      "cell_type": "code",
      "source": [
        "files.download('model.png')"
      ],
      "execution_count": 0,
      "outputs": []
    },
    {
      "metadata": {
        "id": "GsE2R6w37f97",
        "colab_type": "code",
        "colab": {}
      },
      "cell_type": "code",
      "source": [
        "inception_model_thing = model.get_layer('inception_resnet_v2')"
      ],
      "execution_count": 0,
      "outputs": []
    },
    {
      "metadata": {
        "id": "ME-x53uh7tnA",
        "colab_type": "code",
        "colab": {}
      },
      "cell_type": "code",
      "source": [
        "inception_model_thing.summary()"
      ],
      "execution_count": 0,
      "outputs": []
    },
    {
      "metadata": {
        "id": "rSygbMM97rGA",
        "colab_type": "code",
        "colab": {}
      },
      "cell_type": "code",
      "source": [
        "plot_model(inception_model_thing, to_file='model.png')"
      ],
      "execution_count": 0,
      "outputs": []
    },
    {
      "metadata": {
        "id": "zGo5PawoCl8v",
        "colab_type": "code",
        "colab": {}
      },
      "cell_type": "code",
      "source": [
        "import h5py"
      ],
      "execution_count": 0,
      "outputs": []
    },
    {
      "metadata": {
        "id": "99u7HNr28GWX",
        "colab_type": "code",
        "outputId": "f6ec53a8-9015-4b18-fc09-a0350859a599",
        "colab": {
          "base_uri": "https://localhost:8080/",
          "height": 54
        }
      },
      "cell_type": "code",
      "source": [
        "with h5py.File('logs/weights.02-3.00.hdf5', 'r') as f:\n",
        "    print(list(f.keys()))"
      ],
      "execution_count": 0,
      "outputs": [
        {
          "output_type": "stream",
          "text": [
            "['concat0', 'dense0', 'drop0', 'drop1', 'inception_resnet_v2', 'input_diff', 'input_tensor', 'predictions', 'triple_tensor']\n"
          ],
          "name": "stdout"
        }
      ]
    },
    {
      "metadata": {
        "id": "ZPnwAoeYCicw",
        "colab_type": "code",
        "outputId": "c12653cc-0af0-43e6-96e9-abe0e5a8d28f",
        "colab": {
          "base_uri": "https://localhost:8080/",
          "height": 85
        }
      },
      "cell_type": "code",
      "source": [
        "with h5py.File('logs/weights.02-3.00.hdf5', 'r') as f:\n",
        "    #for x, y in f['predictions'].items():\n",
        "    #  print(x)\n",
        "    #  print(y)\n",
        "    for x, y in f['predictions']['predictions'].items():\n",
        "      print(x)\n",
        "      print(y)"
      ],
      "execution_count": 0,
      "outputs": [
        {
          "output_type": "stream",
          "text": [
            "bias:0\n",
            "<HDF5 dataset \"bias:0\": shape (20,), type \"<f4\">\n",
            "kernel:0\n",
            "<HDF5 dataset \"kernel:0\": shape (20, 20), type \"<f4\">\n"
          ],
          "name": "stdout"
        }
      ]
    },
    {
      "metadata": {
        "id": "uvUXy3HPGFbd",
        "colab_type": "text"
      },
      "cell_type": "markdown",
      "source": [
        "sanity check"
      ]
    },
    {
      "metadata": {
        "id": "gP8ReAMjDMmJ",
        "colab_type": "code",
        "colab": {}
      },
      "cell_type": "code",
      "source": [
        "class DataGenerator(keras.utils.Sequence):\n",
        "\n",
        "  def __init__(self, df):\n",
        "    \n",
        "    self.length = len(df.index)\n",
        "    print(self.length)\n",
        "\n",
        "    self.ciphertexts = self._transform_ciphers(df['ciphertext'])\n",
        "    \n",
        "    self.difficulties =  pd.get_dummies(df['difficulty'], dtype='float32').values\n",
        "    \n",
        "    self.labels = pd.get_dummies(df['target'], dtype='float32').values\n",
        "    \n",
        "    #self.X = np.empty((1, 300, 128, 1), dtype='float32')\n",
        "    self.m_arange = np.arange(300)\n",
        "  \n",
        "  def _transform_ciphers(self, series):\n",
        "    \n",
        "    #print(series.shape)\n",
        "    np_inputs = np.zeros((self.length, 300), dtype=np.byte)\n",
        "    #for i, e in series.iteritems():\n",
        "    i=0\n",
        "    for _, e in series.iteritems():\n",
        "\n",
        "      encoded = e.encode(\"ascii\", errors='strict')\n",
        "      np_enc = np.frombuffer(encoded, dtype=np.byte)\n",
        "      how_big = np_enc.shape[0]\n",
        "      np_inputs[i, :how_big] = np_enc\n",
        "      \n",
        "      i+=1\n",
        "      \n",
        "    return np_inputs\n",
        "\n",
        "  def __len__(self):\n",
        "    \n",
        "    return 1\n",
        "    #return self.length\n",
        "\n",
        "  def __getitem__(self, index):\n",
        "    \n",
        "    #self.X[...] = 0\n",
        "    #print(self.m_arange)\n",
        "    X = np.zeros((1, 300, 128, 1), dtype='float32')\n",
        "    X[0, self.m_arange, self.ciphertexts[index], 0] = 1\n",
        "    return ([X, self.difficulties[index][np.newaxis]],\n",
        "            self.labels[index][np.newaxis])"
      ],
      "execution_count": 0,
      "outputs": []
    },
    {
      "metadata": {
        "id": "SMNzpnhGGRhP",
        "colab_type": "code",
        "colab": {}
      },
      "cell_type": "code",
      "source": [
        "!mkdir test"
      ],
      "execution_count": 0,
      "outputs": []
    },
    {
      "metadata": {
        "id": "W-YWxVRhGHqy",
        "colab_type": "code",
        "colab": {}
      },
      "cell_type": "code",
      "source": [
        "model.save_weights('test/foo0.h5')"
      ],
      "execution_count": 0,
      "outputs": []
    },
    {
      "metadata": {
        "id": "5l5WCK-0Gc0I",
        "colab_type": "code",
        "colab": {}
      },
      "cell_type": "code",
      "source": [
        "model.get_layer('inception_resnet_v2').summary()"
      ],
      "execution_count": 0,
      "outputs": []
    },
    {
      "metadata": {
        "id": "KM5zbmyWGlzx",
        "colab_type": "code",
        "colab": {}
      },
      "cell_type": "code",
      "source": [
        "model.load_weights('test/foo0.h5')"
      ],
      "execution_count": 0,
      "outputs": []
    },
    {
      "metadata": {
        "id": "zBwYTXKaGyPi",
        "colab_type": "code",
        "outputId": "3c2ed833-0d58-4e5f-9db1-8dc1592c9b37",
        "colab": {
          "base_uri": "https://localhost:8080/",
          "height": 51
        }
      },
      "cell_type": "code",
      "source": [
        "train_gen = DataGenerator(train_train)\n",
        "test_gen = DataGenerator(train_test)"
      ],
      "execution_count": 0,
      "outputs": [
        {
          "output_type": "stream",
          "text": [
            "35146\n",
            "3906\n"
          ],
          "name": "stdout"
        }
      ]
    },
    {
      "metadata": {
        "id": "TmEIaZDPHGLI",
        "colab_type": "code",
        "colab": {}
      },
      "cell_type": "code",
      "source": [
        "import keras.callbacks as KC"
      ],
      "execution_count": 0,
      "outputs": []
    },
    {
      "metadata": {
        "id": "lNo1VNnsHMtR",
        "colab_type": "code",
        "colab": {}
      },
      "cell_type": "code",
      "source": [
        "checkpt = KC.ModelCheckpoint('test/weights.{epoch:02d}-{val_loss:.2f}.hdf5', monitor='val_loss', verbose=0, save_best_only=False, save_weights_only=True, mode='auto', period=1)"
      ],
      "execution_count": 0,
      "outputs": []
    },
    {
      "metadata": {
        "id": "oVpobhi7HOiQ",
        "colab_type": "code",
        "outputId": "77c3f17a-57f1-45aa-931f-3ab74aa10f35",
        "colab": {
          "base_uri": "https://localhost:8080/",
          "height": 71
        }
      },
      "cell_type": "code",
      "source": [
        "hist = model.fit_generator(generator=train_gen, epochs=1, verbose=1,\n",
        "                           callbacks=[checkpt], validation_data=test_gen,\n",
        "                           shuffle=True, initial_epoch=0, workers=2,\n",
        "                           max_queue_size=100, use_multiprocessing=True)"
      ],
      "execution_count": 0,
      "outputs": [
        {
          "output_type": "stream",
          "text": [
            "Epoch 1/1\n",
            "1/1 [==============================] - 46s 46s/step - loss: 2.8252 - acc: 0.0000e+00 - val_loss: 16.1181 - val_acc: 0.0000e+00\n"
          ],
          "name": "stdout"
        }
      ]
    },
    {
      "metadata": {
        "id": "UeY2yhsEHUTg",
        "colab_type": "code",
        "outputId": "00515d58-7cb0-4d41-9a61-0c7a4dfb852a",
        "colab": {
          "base_uri": "https://localhost:8080/",
          "height": 68
        }
      },
      "cell_type": "code",
      "source": [
        "!ls -l test"
      ],
      "execution_count": 0,
      "outputs": [
        {
          "output_type": "stream",
          "text": [
            "total 426356\n",
            "-rw-r--r-- 1 root root 218289472 Dec 23 22:05 foo0.h5\n",
            "-rw-r--r-- 1 root root 218289472 Dec 23 22:10 weights.01-16.12.hdf5\n"
          ],
          "name": "stdout"
        }
      ]
    },
    {
      "metadata": {
        "id": "cyHlz6X6Hqa9",
        "colab_type": "code",
        "colab": {}
      },
      "cell_type": "code",
      "source": [
        "model.load_weights('test/weights.01-16.12.hdf5')"
      ],
      "execution_count": 0,
      "outputs": []
    },
    {
      "metadata": {
        "id": "rkqv7e6seN5j",
        "colab_type": "text"
      },
      "cell_type": "markdown",
      "source": [
        "## Bleh bleh bleh\n",
        "\n",
        "I couldn't find a name for this. I decided in the end maybe it would be better for some triplet loss/network and use inception for feature extraction."
      ]
    },
    {
      "metadata": {
        "id": "GUES3o4AefN7",
        "colab_type": "code",
        "colab": {}
      },
      "cell_type": "code",
      "source": [
        "import pandas as pd\n",
        "import numpy as np"
      ],
      "execution_count": 0,
      "outputs": []
    },
    {
      "metadata": {
        "id": "YBMP08DheQBl",
        "colab_type": "code",
        "colab": {}
      },
      "cell_type": "code",
      "source": [
        "train = pd.read_csv('train.csv')"
      ],
      "execution_count": 0,
      "outputs": []
    },
    {
      "metadata": {
        "id": "x-vxULTMegGt",
        "colab_type": "code",
        "colab": {}
      },
      "cell_type": "code",
      "source": [
        "lmao = train.groupby('target')"
      ],
      "execution_count": 0,
      "outputs": []
    },
    {
      "metadata": {
        "id": "DpqpT5c-elUl",
        "colab_type": "code",
        "colab": {}
      },
      "cell_type": "code",
      "source": [
        "type(lmao)"
      ],
      "execution_count": 0,
      "outputs": []
    },
    {
      "metadata": {
        "id": "b14h6UZgewgV",
        "colab_type": "code",
        "colab": {}
      },
      "cell_type": "code",
      "source": [
        "train.head()"
      ],
      "execution_count": 0,
      "outputs": []
    },
    {
      "metadata": {
        "id": "wEcH_M0oemQV",
        "colab_type": "code",
        "colab": {}
      },
      "cell_type": "code",
      "source": [
        "lmao = train.loc[train['target'] == 0]"
      ],
      "execution_count": 0,
      "outputs": []
    },
    {
      "metadata": {
        "id": "AQAHXcoZfLD-",
        "colab_type": "code",
        "colab": {}
      },
      "cell_type": "code",
      "source": [
        "lmao.head()"
      ],
      "execution_count": 0,
      "outputs": []
    },
    {
      "metadata": {
        "id": "BIWcqcwTfOc1",
        "colab_type": "code",
        "outputId": "a3aa775f-e8ab-49e1-9e16-062fb22af319",
        "colab": {
          "base_uri": "https://localhost:8080/",
          "height": 34
        }
      },
      "cell_type": "code",
      "source": [
        "lmao.shape"
      ],
      "execution_count": 0,
      "outputs": [
        {
          "output_type": "execute_result",
          "data": {
            "text/plain": [
              "(1734, 4)"
            ]
          },
          "metadata": {
            "tags": []
          },
          "execution_count": 22
        }
      ]
    },
    {
      "metadata": {
        "id": "5gFamMp5fQnd",
        "colab_type": "code",
        "outputId": "c4572f2d-5857-410e-9674-87f274ba4d01",
        "colab": {
          "base_uri": "https://localhost:8080/",
          "height": 85
        }
      },
      "cell_type": "code",
      "source": [
        "diff1 = train.loc[train['difficulty'] == 1]\n",
        "diff2 = train.loc[train['difficulty'] == 2]\n",
        "diff3 = train.loc[train['difficulty'] == 3]\n",
        "diff4 = train.loc[train['difficulty'] == 4]\n",
        "\n",
        "print(diff1.shape)\n",
        "print(diff2.shape)\n",
        "print(diff3.shape)\n",
        "print(diff4.shape)"
      ],
      "execution_count": 0,
      "outputs": [
        {
          "output_type": "stream",
          "text": [
            "(9589, 4)\n",
            "(10024, 4)\n",
            "(9469, 4)\n",
            "(9970, 4)\n"
          ],
          "name": "stdout"
        }
      ]
    },
    {
      "metadata": {
        "id": "o7RAFfuNflgv",
        "colab_type": "code",
        "colab": {}
      },
      "cell_type": "code",
      "source": [
        "group_it = [diff1[diff1['target']==i] for i in range(0, 20)]"
      ],
      "execution_count": 0,
      "outputs": []
    },
    {
      "metadata": {
        "id": "tYc3DKIwh8i8",
        "colab_type": "code",
        "colab": {}
      },
      "cell_type": "code",
      "source": [
        "length_it = [len(e.index) for e in group_it]"
      ],
      "execution_count": 0,
      "outputs": []
    },
    {
      "metadata": {
        "id": "zo5RC9Amh9dM",
        "colab_type": "code",
        "outputId": "bb7149c7-d098-4f08-f601-29a237694352",
        "colab": {
          "base_uri": "https://localhost:8080/",
          "height": 357
        }
      },
      "cell_type": "code",
      "source": [
        "length_it"
      ],
      "execution_count": 0,
      "outputs": [
        {
          "output_type": "execute_result",
          "data": {
            "text/plain": [
              "[420,\n",
              " 465,\n",
              " 360,\n",
              " 346,\n",
              " 320,\n",
              " 466,\n",
              " 361,\n",
              " 331,\n",
              " 380,\n",
              " 486,\n",
              " 540,\n",
              " 563,\n",
              " 344,\n",
              " 482,\n",
              " 576,\n",
              " 765,\n",
              " 471,\n",
              " 834,\n",
              " 675,\n",
              " 404]"
            ]
          },
          "metadata": {
            "tags": []
          },
          "execution_count": 6
        }
      ]
    },
    {
      "metadata": {
        "id": "ybRCQF8llzHC",
        "colab_type": "code",
        "outputId": "10a1bebf-9518-4fd5-f6c7-e3089fd5883b",
        "colab": {
          "base_uri": "https://localhost:8080/",
          "height": 34
        }
      },
      "cell_type": "code",
      "source": [
        "from keras.applications.inception_resnet_v2 import InceptionResNetV2\n",
        "from keras.models import Model\n",
        "import keras.layers as KL"
      ],
      "execution_count": 0,
      "outputs": [
        {
          "output_type": "stream",
          "text": [
            "Using TensorFlow backend.\n"
          ],
          "name": "stderr"
        }
      ]
    },
    {
      "metadata": {
        "id": "lzI7IWrsiIbj",
        "colab_type": "code",
        "colab": {}
      },
      "cell_type": "code",
      "source": [
        "input_x = KL.Input((300,128,1), name='input_x')\n",
        "triple_x = KL.Concatenate(name='triple_x')([input_x, input_x, input_x])\n",
        "\n",
        "input_y = KL.Input((300,128,1), name='input_y')\n",
        "triple_y = KL.Concatenate(name='triple_y')([input_y, input_y, input_y])"
      ],
      "execution_count": 0,
      "outputs": []
    },
    {
      "metadata": {
        "id": "BtMvbt-qjnbN",
        "colab_type": "code",
        "colab": {}
      },
      "cell_type": "code",
      "source": [
        "inception_model = InceptionResNetV2(include_top=False,\n",
        "                      weights='imagenet',\n",
        "                      input_tensor=None,\n",
        "                      input_shape=(300, 128, 3),\n",
        "                      pooling=None)#'avg',\n",
        "                      #classes=20)"
      ],
      "execution_count": 0,
      "outputs": []
    },
    {
      "metadata": {
        "id": "YYvipwXFkGJ7",
        "colab_type": "code",
        "colab": {}
      },
      "cell_type": "code",
      "source": [
        "layer_name = 'mixed_6a'\n",
        "ir_sub_model = Model(inputs=inception_model.input,\n",
        "                                 outputs=inception_model.get_layer(layer_name).output)"
      ],
      "execution_count": 0,
      "outputs": []
    },
    {
      "metadata": {
        "id": "bnzI6qjQkU_e",
        "colab_type": "code",
        "colab": {}
      },
      "cell_type": "code",
      "source": [
        "x_tensor = ir_sub_model(triple_x)\n",
        "y_tensor = ir_sub_model(triple_y)"
      ],
      "execution_count": 0,
      "outputs": []
    },
    {
      "metadata": {
        "id": "uRjLcjGalLKc",
        "colab_type": "code",
        "colab": {}
      },
      "cell_type": "code",
      "source": [
        "x_pool = KL.GlobalMaxPooling2D()(x_tensor)\n",
        "y_pool = KL.GlobalMaxPooling2D()(y_tensor)"
      ],
      "execution_count": 0,
      "outputs": []
    },
    {
      "metadata": {
        "id": "OoCRmAMllTz7",
        "colab_type": "code",
        "colab": {}
      },
      "cell_type": "code",
      "source": [
        "output = KL.Dot(axes=-1, normalize=True)([x_pool, y_pool])"
      ],
      "execution_count": 0,
      "outputs": []
    },
    {
      "metadata": {
        "id": "zC0A639Plm71",
        "colab_type": "code",
        "colab": {}
      },
      "cell_type": "code",
      "source": [
        "the_model = Model(inputs=[input_x, input_y], outputs=output)"
      ],
      "execution_count": 0,
      "outputs": []
    },
    {
      "metadata": {
        "id": "uDnnWnTRmZXo",
        "colab_type": "code",
        "colab": {}
      },
      "cell_type": "code",
      "source": [
        "let_x = np.zeros((1, 300,128,1))\n",
        "let_y = np.ones((1, 300,128,1))"
      ],
      "execution_count": 0,
      "outputs": []
    },
    {
      "metadata": {
        "id": "i8ibGIOYmlTw",
        "colab_type": "code",
        "colab": {}
      },
      "cell_type": "code",
      "source": [
        "lol = the_model.predict([let_x, let_y])"
      ],
      "execution_count": 0,
      "outputs": []
    },
    {
      "metadata": {
        "id": "NfjqcNjJmvvv",
        "colab_type": "code",
        "outputId": "cad22074-9449-42fe-c852-8f6067366984",
        "colab": {
          "base_uri": "https://localhost:8080/",
          "height": 34
        }
      },
      "cell_type": "code",
      "source": [
        "lol"
      ],
      "execution_count": 0,
      "outputs": [
        {
          "output_type": "execute_result",
          "data": {
            "text/plain": [
              "array([[0.9655765]], dtype=float32)"
            ]
          },
          "metadata": {
            "tags": []
          },
          "execution_count": 50
        }
      ]
    },
    {
      "metadata": {
        "id": "JQJnfsU4pe88",
        "colab_type": "text"
      },
      "cell_type": "markdown",
      "source": [
        "avg pooling"
      ]
    },
    {
      "metadata": {
        "id": "IN3q0FZpphSf",
        "colab_type": "code",
        "colab": {}
      },
      "cell_type": "code",
      "source": [
        "x_pool = KL.GlobalAveragePooling2D()(x_tensor)\n",
        "y_pool = KL.GlobalAveragePooling2D()(y_tensor)"
      ],
      "execution_count": 0,
      "outputs": []
    },
    {
      "metadata": {
        "id": "BimvMdhiqEMb",
        "colab_type": "code",
        "outputId": "3f32b809-e12e-4dd5-d5ff-677c64069a62",
        "colab": {
          "base_uri": "https://localhost:8080/",
          "height": 34
        }
      },
      "cell_type": "code",
      "source": [
        "lol"
      ],
      "execution_count": 0,
      "outputs": [
        {
          "output_type": "execute_result",
          "data": {
            "text/plain": [
              "array([[0.96673405]], dtype=float32)"
            ]
          },
          "metadata": {
            "tags": []
          },
          "execution_count": 17
        }
      ]
    },
    {
      "metadata": {
        "id": "wOmcYoO-nRKn",
        "colab_type": "text"
      },
      "cell_type": "markdown",
      "source": [
        "the other option"
      ]
    },
    {
      "metadata": {
        "id": "1EXtrKgsm9WR",
        "colab_type": "code",
        "colab": {}
      },
      "cell_type": "code",
      "source": [
        "inception_model = InceptionResNetV2(include_top=False,\n",
        "                      weights='imagenet',\n",
        "                      input_tensor=None,\n",
        "                      input_shape=(300, 128, 3),\n",
        "                      pooling='max')"
      ],
      "execution_count": 0,
      "outputs": []
    },
    {
      "metadata": {
        "id": "istLBv7dnlim",
        "colab_type": "code",
        "colab": {}
      },
      "cell_type": "code",
      "source": [
        "x_tensor = inception_model(triple_x)\n",
        "y_tensor = inception_model(triple_y)"
      ],
      "execution_count": 0,
      "outputs": []
    },
    {
      "metadata": {
        "id": "6G3Pp5dnnsU5",
        "colab_type": "code",
        "colab": {}
      },
      "cell_type": "code",
      "source": [
        "output = KL.Dot(axes=-1, normalize=True)([x_tensor, y_tensor])"
      ],
      "execution_count": 0,
      "outputs": []
    },
    {
      "metadata": {
        "id": "V9JH8BXun2CM",
        "colab_type": "code",
        "colab": {}
      },
      "cell_type": "code",
      "source": [
        "the_model = Model(inputs=[input_x, input_y], outputs=output)"
      ],
      "execution_count": 0,
      "outputs": []
    },
    {
      "metadata": {
        "id": "4utIb2vzn3vo",
        "colab_type": "code",
        "colab": {}
      },
      "cell_type": "code",
      "source": [
        "let_x = np.zeros((1, 300,128,1))\n",
        "let_y = np.ones((1, 300,128,1))\n",
        "lol = the_model.predict([let_x, let_y])"
      ],
      "execution_count": 0,
      "outputs": []
    },
    {
      "metadata": {
        "id": "0vSPKbFCoSdq",
        "colab_type": "text"
      },
      "cell_type": "markdown",
      "source": [
        "max pool"
      ]
    },
    {
      "metadata": {
        "id": "CMY82Wkgn8lz",
        "colab_type": "code",
        "outputId": "0637ccdf-b5d1-4b41-bdc1-0f7986e43524",
        "colab": {
          "base_uri": "https://localhost:8080/",
          "height": 34
        }
      },
      "cell_type": "code",
      "source": [
        "lol"
      ],
      "execution_count": 0,
      "outputs": [
        {
          "output_type": "execute_result",
          "data": {
            "text/plain": [
              "array([[0.6128756]], dtype=float32)"
            ]
          },
          "metadata": {
            "tags": []
          },
          "execution_count": 14
        }
      ]
    },
    {
      "metadata": {
        "id": "0ctaVpLRoUKE",
        "colab_type": "text"
      },
      "cell_type": "markdown",
      "source": [
        "avg pool"
      ]
    },
    {
      "metadata": {
        "id": "9CcDD51hoWAM",
        "colab_type": "code",
        "colab": {}
      },
      "cell_type": "code",
      "source": [
        "inception_model = InceptionResNetV2(include_top=False,\n",
        "                      weights='imagenet',\n",
        "                      input_tensor=None,\n",
        "                      input_shape=(300, 128, 3),\n",
        "                      pooling='avg')"
      ],
      "execution_count": 0,
      "outputs": []
    },
    {
      "metadata": {
        "id": "c0xKKJ0coM0l",
        "colab_type": "code",
        "outputId": "b0625e59-8914-4e06-bc60-d8118045222d",
        "colab": {
          "base_uri": "https://localhost:8080/",
          "height": 34
        }
      },
      "cell_type": "code",
      "source": [
        "lol"
      ],
      "execution_count": 0,
      "outputs": [
        {
          "output_type": "execute_result",
          "data": {
            "text/plain": [
              "array([[0.7424079]], dtype=float32)"
            ]
          },
          "metadata": {
            "tags": []
          },
          "execution_count": 20
        }
      ]
    },
    {
      "metadata": {
        "id": "VMlvHMELvHQA",
        "colab_type": "text"
      },
      "cell_type": "markdown",
      "source": [
        "in conclusion, maybe it is best to use all of inception and train something like what the facenet researchers proposed\n",
        "\n",
        "but it is important to note just a black and white image probably is not representative of the dataset."
      ]
    },
    {
      "metadata": {
        "id": "dUJl2niNuWRo",
        "colab_type": "text"
      },
      "cell_type": "markdown",
      "source": [
        "## Cosine similarity\n",
        "\n",
        "Now I will attempt to pick my triplets using pure cosine similarity.\n",
        "\n",
        "http://www.cs.trincoll.edu/~crypto/resources/LetFreq.html\n",
        "\n",
        "4.5 characters on average per English word\n",
        "\n",
        "https://quotabulary.com/short-meaningful-quotes\n",
        "\n",
        "suppose shortest sentence identifiable from a source such as a quote, is 10 words.\n",
        "\n",
        "Then 10 times 4.5 is 45. Filter from here"
      ]
    },
    {
      "metadata": {
        "id": "U3HoI2ev5ZMx",
        "colab_type": "code",
        "outputId": "68dca2a3-190c-44a1-f205-cc05e321aad8",
        "colab": {
          "base_uri": "https://localhost:8080/",
          "height": 34
        }
      },
      "cell_type": "code",
      "source": [
        "from keras.applications.inception_resnet_v2 import InceptionResNetV2\n",
        "from keras.models import Model\n",
        "import keras.layers as KL"
      ],
      "execution_count": 0,
      "outputs": [
        {
          "output_type": "stream",
          "text": [
            "Using TensorFlow backend.\n"
          ],
          "name": "stderr"
        }
      ]
    },
    {
      "metadata": {
        "id": "1pfsROXj5GOw",
        "colab_type": "code",
        "colab": {}
      },
      "cell_type": "code",
      "source": [
        "input_x = KL.Input((300,))\n",
        "input_y = KL.Input((300,))"
      ],
      "execution_count": 0,
      "outputs": []
    },
    {
      "metadata": {
        "id": "Mp9i_pkw5NvG",
        "colab_type": "code",
        "colab": {}
      },
      "cell_type": "code",
      "source": [
        "output = KL.Dot(axes=-1, normalize=True)([input_x, input_y])"
      ],
      "execution_count": 0,
      "outputs": []
    },
    {
      "metadata": {
        "id": "W2lxwm_q5RGi",
        "colab_type": "code",
        "colab": {}
      },
      "cell_type": "code",
      "source": [
        "cosine_sim = Model(inputs=[input_x, input_y], outputs=output)"
      ],
      "execution_count": 0,
      "outputs": []
    },
    {
      "metadata": {
        "id": "ic4Yuk2DocbE",
        "colab_type": "code",
        "colab": {}
      },
      "cell_type": "code",
      "source": [
        "import numpy as np\n",
        "import pandas as pd"
      ],
      "execution_count": 0,
      "outputs": []
    },
    {
      "metadata": {
        "id": "LW5TstgkwWkr",
        "colab_type": "code",
        "colab": {}
      },
      "cell_type": "code",
      "source": [
        "train = pd.read_csv('train.csv')"
      ],
      "execution_count": 0,
      "outputs": []
    },
    {
      "metadata": {
        "id": "rMC6kzIjx70P",
        "colab_type": "code",
        "outputId": "ab44ea53-160e-4b07-ae66-e4eb768ac8be",
        "colab": {
          "base_uri": "https://localhost:8080/",
          "height": 34
        }
      },
      "cell_type": "code",
      "source": [
        "print(len(train.index))"
      ],
      "execution_count": 0,
      "outputs": [
        {
          "output_type": "stream",
          "text": [
            "39052\n"
          ],
          "name": "stdout"
        }
      ]
    },
    {
      "metadata": {
        "id": "ym_Z_HOjwXah",
        "colab_type": "code",
        "colab": {}
      },
      "cell_type": "code",
      "source": [
        "filtered = train[train['ciphertext'].str.len() >= 45]"
      ],
      "execution_count": 0,
      "outputs": []
    },
    {
      "metadata": {
        "id": "Zr2opOb4x6P3",
        "colab_type": "code",
        "outputId": "4b1b4c7b-c301-4867-eb50-0a9cf2ea8e0b",
        "colab": {
          "base_uri": "https://localhost:8080/",
          "height": 34
        }
      },
      "cell_type": "code",
      "source": [
        "print(len(filtered.index))"
      ],
      "execution_count": 0,
      "outputs": [
        {
          "output_type": "stream",
          "text": [
            "38219\n"
          ],
          "name": "stdout"
        }
      ]
    },
    {
      "metadata": {
        "id": "mOqYrIo8yV4V",
        "colab_type": "code",
        "colab": {}
      },
      "cell_type": "code",
      "source": [
        "lol = train['ciphertext'].str.len()"
      ],
      "execution_count": 0,
      "outputs": []
    },
    {
      "metadata": {
        "id": "69igzbx-yaFc",
        "colab_type": "code",
        "outputId": "8485783c-5cb6-4309-ee4d-035832cbff58",
        "colab": {
          "base_uri": "https://localhost:8080/",
          "height": 34
        }
      },
      "cell_type": "code",
      "source": [
        "type(lol)"
      ],
      "execution_count": 0,
      "outputs": [
        {
          "output_type": "execute_result",
          "data": {
            "text/plain": [
              "pandas.core.series.Series"
            ]
          },
          "metadata": {
            "tags": []
          },
          "execution_count": 17
        }
      ]
    },
    {
      "metadata": {
        "id": "p6Wh5tIZybgT",
        "colab_type": "code",
        "outputId": "005f9310-843b-47fc-d135-c40e192d77d1",
        "colab": {
          "base_uri": "https://localhost:8080/",
          "height": 170
        }
      },
      "cell_type": "code",
      "source": [
        "lol.describe()"
      ],
      "execution_count": 0,
      "outputs": [
        {
          "output_type": "execute_result",
          "data": {
            "text/plain": [
              "count    39052.000000\n",
              "mean       278.483356\n",
              "std         61.807633\n",
              "min          2.000000\n",
              "25%        300.000000\n",
              "50%        300.000000\n",
              "75%        300.000000\n",
              "max        300.000000\n",
              "Name: ciphertext, dtype: float64"
            ]
          },
          "metadata": {
            "tags": []
          },
          "execution_count": 19
        }
      ]
    },
    {
      "metadata": {
        "id": "zQfD0yoTycwz",
        "colab_type": "code",
        "colab": {}
      },
      "cell_type": "code",
      "source": [
        "lol = filtered['ciphertext'].str.len()"
      ],
      "execution_count": 0,
      "outputs": []
    },
    {
      "metadata": {
        "id": "mG4NulvGysJv",
        "colab_type": "code",
        "outputId": "9f203fd0-5c69-49ca-8031-9b9a5e828bd5",
        "colab": {
          "base_uri": "https://localhost:8080/",
          "height": 170
        }
      },
      "cell_type": "code",
      "source": [
        "lol.describe()"
      ],
      "execution_count": 0,
      "outputs": [
        {
          "output_type": "execute_result",
          "data": {
            "text/plain": [
              "count    38219.000000\n",
              "mean       284.033517\n",
              "std         49.559244\n",
              "min         45.000000\n",
              "25%        300.000000\n",
              "50%        300.000000\n",
              "75%        300.000000\n",
              "max        300.000000\n",
              "Name: ciphertext, dtype: float64"
            ]
          },
          "metadata": {
            "tags": []
          },
          "execution_count": 21
        }
      ]
    },
    {
      "metadata": {
        "id": "5Znr7GWpzJmW",
        "colab_type": "text"
      },
      "cell_type": "markdown",
      "source": [
        "forgot to use filtered, everything after is from train"
      ]
    },
    {
      "metadata": {
        "id": "cLWraUGfzDcT",
        "colab_type": "code",
        "colab": {}
      },
      "cell_type": "code",
      "source": [
        "diff1 = train.loc[train['difficulty'] == 1]"
      ],
      "execution_count": 0,
      "outputs": []
    },
    {
      "metadata": {
        "id": "cZzu-LV0z8k3",
        "colab_type": "code",
        "colab": {}
      },
      "cell_type": "code",
      "source": [
        "group_it = [diff1[diff1['target']==i] for i in range(0, 20)]"
      ],
      "execution_count": 0,
      "outputs": []
    },
    {
      "metadata": {
        "id": "Ov2dLpNC0BBP",
        "colab_type": "code",
        "colab": {}
      },
      "cell_type": "code",
      "source": [
        "length_it = [[i, len(e.index)] for i, e in enumerate(group_it)]"
      ],
      "execution_count": 0,
      "outputs": []
    },
    {
      "metadata": {
        "id": "lEj24iUS0GZh",
        "colab_type": "code",
        "outputId": "cbf52459-2f93-43fc-82b0-a0b1f38e2b1e",
        "colab": {
          "base_uri": "https://localhost:8080/",
          "height": 357
        }
      },
      "cell_type": "code",
      "source": [
        "length_it"
      ],
      "execution_count": 0,
      "outputs": [
        {
          "output_type": "execute_result",
          "data": {
            "text/plain": [
              "[[0, 420],\n",
              " [1, 465],\n",
              " [2, 360],\n",
              " [3, 346],\n",
              " [4, 320],\n",
              " [5, 466],\n",
              " [6, 361],\n",
              " [7, 331],\n",
              " [8, 380],\n",
              " [9, 486],\n",
              " [10, 540],\n",
              " [11, 563],\n",
              " [12, 344],\n",
              " [13, 482],\n",
              " [14, 576],\n",
              " [15, 765],\n",
              " [16, 471],\n",
              " [17, 834],\n",
              " [18, 675],\n",
              " [19, 404]]"
            ]
          },
          "metadata": {
            "tags": []
          },
          "execution_count": 13
        }
      ]
    },
    {
      "metadata": {
        "id": "SY8mkE1V0o7G",
        "colab_type": "code",
        "colab": {}
      },
      "cell_type": "code",
      "source": [
        "l = len(length_it)"
      ],
      "execution_count": 0,
      "outputs": []
    },
    {
      "metadata": {
        "id": "JlmU1ajH1vUW",
        "colab_type": "code",
        "colab": {}
      },
      "cell_type": "code",
      "source": [
        "import random"
      ],
      "execution_count": 0,
      "outputs": []
    },
    {
      "metadata": {
        "id": "tPnUjZzN1wrG",
        "colab_type": "code",
        "colab": {}
      },
      "cell_type": "code",
      "source": [
        "r = random.seed(a=42)"
      ],
      "execution_count": 0,
      "outputs": []
    },
    {
      "metadata": {
        "id": "L4klzJsY6mHm",
        "colab_type": "code",
        "colab": {}
      },
      "cell_type": "code",
      "source": [
        "np.random.seed(42)"
      ],
      "execution_count": 0,
      "outputs": []
    },
    {
      "metadata": {
        "id": "WKwEYUBX6dRe",
        "colab_type": "code",
        "colab": {}
      },
      "cell_type": "code",
      "source": [
        "def get_it(size):\n",
        "  \n",
        "  x = np.arange(size)\n",
        "  np.random.shuffle(x)\n",
        "  return x"
      ],
      "execution_count": 0,
      "outputs": []
    },
    {
      "metadata": {
        "id": "OMksBmOR6GiT",
        "colab_type": "code",
        "colab": {}
      },
      "cell_type": "code",
      "source": [
        "random_it = [get_it(how_long) for _,how_long in length_it]"
      ],
      "execution_count": 0,
      "outputs": []
    },
    {
      "metadata": {
        "id": "3ZM12LiX6x7g",
        "colab_type": "code",
        "outputId": "f712b015-18ec-4310-efad-bab09e069738",
        "colab": {
          "base_uri": "https://localhost:8080/",
          "height": 357
        }
      },
      "cell_type": "code",
      "source": [
        "for e in random_it:\n",
        "  print(e[:5])"
      ],
      "execution_count": 0,
      "outputs": [
        {
          "output_type": "stream",
          "text": [
            "[145 334 175 369 416]\n",
            "[ 70 233 215 247  39]\n",
            "[323 200   8  11  47]\n",
            "[337 308 269  94 105]\n",
            "[ 51 108  42  68  12]\n",
            "[ 86 255 102 154  93]\n",
            "[183 259 161 360 211]\n",
            "[252 259 194  70 260]\n",
            "[210  51 218 284 159]\n",
            "[329 149 436 124 479]\n",
            "[400 310  63 267 285]\n",
            "[390 247 444 475 395]\n",
            "[160 262 290 135 242]\n",
            "[221 248 300 390 478]\n",
            "[251 161 446 129 137]\n",
            "[234 185 166 681 573]\n",
            "[410 239 327 139 406]\n",
            "[239 218 647 320 249]\n",
            "[458 278 369 153 321]\n",
            "[220 402 277  73  75]\n"
          ],
          "name": "stdout"
        }
      ]
    },
    {
      "metadata": {
        "id": "DpaoKF4S9YCT",
        "colab_type": "code",
        "outputId": "2b71c8a2-592d-4c0c-8c70-7220cf898d74",
        "colab": {
          "base_uri": "https://localhost:8080/",
          "height": 357
        }
      },
      "cell_type": "code",
      "source": [
        "for e in random_it:\n",
        "  print(e[-5:])"
      ],
      "execution_count": 0,
      "outputs": [
        {
          "output_type": "stream",
          "text": [
            "[ 71 106 270 348 102]\n",
            "[289 238   0 121  57]\n",
            "[263 358  33 110 227]\n",
            "[292 260  19 118 194]\n",
            "[221  59 223 232  73]\n",
            "[403 444 250 107 389]\n",
            "[220 307 358 100 272]\n",
            "[315 173 181 296 325]\n",
            "[307 375 160 319 264]\n",
            "[188 430  12 324 442]\n",
            "[108 402 281  98 255]\n",
            "[353 448 174 329 194]\n",
            "[263 327 173 278 108]\n",
            "[229 457 285 463 312]\n",
            "[380 268  45 420 562]\n",
            "[199 190 668 620 326]\n",
            "[188 143 122 150 460]\n",
            "[394 556 656 550 710]\n",
            "[100 566 102 258 436]\n",
            "[219 339 119 271 237]\n"
          ],
          "name": "stdout"
        }
      ]
    },
    {
      "metadata": {
        "id": "bdvveb9S9gwv",
        "colab_type": "code",
        "colab": {}
      },
      "cell_type": "code",
      "source": [
        "into_x = np.empty((1, 300,))\n",
        "into_y = np.empty((1, 300,))"
      ],
      "execution_count": 0,
      "outputs": []
    },
    {
      "metadata": {
        "id": "lsq6M1oL7ZOz",
        "colab_type": "code",
        "colab": {}
      },
      "cell_type": "code",
      "source": [
        "def encode_it(thingy, into):\n",
        "  into[0, :] = 0\n",
        "  encoded = thingy.encode(\"ascii\", errors='strict')\n",
        "  np_enc = np.frombuffer(encoded, dtype=np.byte)\n",
        "  how_big = np_enc.shape[0]\n",
        "  into[0, :how_big] = np_enc"
      ],
      "execution_count": 0,
      "outputs": []
    },
    {
      "metadata": {
        "id": "bKap1jvN7G8r",
        "colab_type": "code",
        "colab": {}
      },
      "cell_type": "code",
      "source": [
        "test = 0"
      ],
      "execution_count": 0,
      "outputs": []
    },
    {
      "metadata": {
        "id": "Svf6TXNwtjZv",
        "colab_type": "code",
        "colab": {}
      },
      "cell_type": "code",
      "source": [
        "coords = []\n",
        "similarities = []"
      ],
      "execution_count": 0,
      "outputs": []
    },
    {
      "metadata": {
        "id": "j6-Fo9pk1Wdm",
        "colab_type": "code",
        "colab": {}
      },
      "cell_type": "code",
      "source": [
        "while l > 1 and test < 100:\n",
        "  \n",
        "  index = random.randint(0, l-1)\n",
        "  first = length_it.pop(index)\n",
        "  \n",
        "  index = random.randint(0, l-2)\n",
        "  second = length_it[index]\n",
        "  \n",
        "  first[1] -= 1\n",
        "  if first[1] > 0:\n",
        "    \n",
        "    length_it.append(first)\n",
        "\n",
        "  second[1] -= 1\n",
        "  if second[1] <= 0:\n",
        "\n",
        "    length_it.pop(index)\n",
        "    \n",
        "  l = len(length_it)\n",
        "  \n",
        "  f_g = group_it[first[0]]\n",
        "  s_g = group_it[second[0]]\n",
        "  f_r = random_it[first[0]][first[1]]\n",
        "  s_r = random_it[second[0]][second[1]]\n",
        "  #print(f_g0)\n",
        "  #print(s_g0)\n",
        "  #print(first)\n",
        "  #print(second)\n",
        "  #print(f_r1)\n",
        "  #print(s_r1)\n",
        "  encode_it(f_g.iloc[f_r]['ciphertext'], into_x)\n",
        "  encode_it(s_g.iloc[s_r]['ciphertext'], into_y)\n",
        "  \n",
        "  coords.append((first[0], f_r, second[0], s_r))\n",
        "  similarities.append(cosine_sim.predict([into_x, into_y])[0,0])\n",
        "  \n",
        "  test += 1"
      ],
      "execution_count": 0,
      "outputs": []
    },
    {
      "metadata": {
        "id": "VVD5Y5L-vrR2",
        "colab_type": "code",
        "outputId": "1b846f52-c177-4ec8-8d7c-f23a9fcb6cef",
        "colab": {
          "base_uri": "https://localhost:8080/",
          "height": 1717
        }
      },
      "cell_type": "code",
      "source": [
        "for i in range(0,100):\n",
        "  \n",
        "  print(\"%s, %s\" % (coords[i], similarities[i]))"
      ],
      "execution_count": 0,
      "outputs": [
        {
          "output_type": "stream",
          "text": [
            "(3, 194, 0, 102), 0.7662526\n",
            "(9, 442, 8, 264), 0.62601525\n",
            "(8, 319, 5, 389), 0.7686665\n",
            "(4, 73, 9, 324), 0.08543558\n",
            "(2, 227, 4, 232), 0.48469144\n",
            "(18, 436, 1, 57), 0.33326927\n",
            "(0, 348, 6, 272), 0.66434866\n",
            "(12, 108, 14, 562), 0.7795819\n",
            "(2, 110, 1, 121), 0.7212343\n",
            "(0, 270, 13, 312), 0.53060853\n",
            "(12, 278, 9, 12), 0.80190545\n",
            "(14, 420, 4, 223), 0.76082385\n",
            "(12, 173, 16, 460), 0.65111053\n",
            "(1, 0, 13, 463), 0.53526306\n",
            "(4, 59, 3, 118), 0.62594545\n",
            "(17, 710, 11, 194), 0.79993343\n",
            "(15, 326, 8, 160), 0.09485227\n",
            "(10, 255, 7, 325), 0.8360181\n",
            "(0, 106, 11, 329), 0.77451736\n",
            "(2, 33, 14, 45), 0.7530693\n",
            "(2, 358, 9, 430), 0.7875346\n",
            "(6, 100, 17, 550), 0.78413594\n",
            "(0, 71, 13, 285), 0.76676065\n",
            "(1, 238, 11, 174), 0.574177\n",
            "(6, 358, 18, 258), 0.7864833\n",
            "(6, 307, 12, 327), 0.7118447\n",
            "(1, 289, 3, 19), 0.7795684\n",
            "(11, 448, 7, 296), 0.19615862\n",
            "(8, 375, 12, 263), 0.79309726\n",
            "(13, 457, 14, 268), 0.2837851\n",
            "(19, 237, 2, 263), 0.7753915\n",
            "(4, 221, 1, 95), 0.7527323\n",
            "(2, 235, 18, 102), 0.7911516\n",
            "(0, 188, 6, 220), 0.69181716\n",
            "(14, 380, 15, 620), 0.5169634\n",
            "(16, 150, 12, 314), 0.33085403\n",
            "(0, 20, 15, 668), 0.7818946\n",
            "(12, 110, 4, 36), 0.7984123\n",
            "(13, 229, 6, 357), 0.7889693\n",
            "(0, 419, 10, 98), 0.7359094\n",
            "(11, 353, 7, 181), 0.7422778\n",
            "(10, 281, 7, 173), 0.7868069\n",
            "(19, 271, 14, 117), 0.67620426\n",
            "(1, 125, 3, 260), 0.81934536\n",
            "(15, 190, 1, 117), 0.80403125\n",
            "(14, 565, 6, 123), 0.77812105\n",
            "(10, 402, 13, 145), 0.78383434\n",
            "(11, 498, 18, 566), 0.79143214\n",
            "(4, 277, 18, 100), 0.77165043\n",
            "(8, 307, 11, 140), 0.77407646\n",
            "(11, 92, 16, 122), 0.7888176\n",
            "(8, 88, 1, 47), 0.19609657\n",
            "(11, 238, 19, 119), 0.20101365\n",
            "(0, 121, 2, 82), 0.78575206\n",
            "(18, 197, 8, 141), 0.8008195\n",
            "(4, 195, 3, 292), 0.79518646\n",
            "(7, 315, 17, 656), 0.78731346\n",
            "(6, 230, 16, 143), 0.79399985\n",
            "(8, 202, 9, 188), 0.7938856\n",
            "(10, 108, 11, 204), 0.84277266\n",
            "(10, 198, 18, 225), 0.8045492\n",
            "(7, 187, 19, 339), 0.7932668\n",
            "(8, 308, 5, 107), 0.40856946\n",
            "(17, 556, 7, 56), 0.78358877\n",
            "(1, 88, 11, 432), 0.7908583\n",
            "(2, 41, 11, 244), 0.7790328\n",
            "(6, 177, 13, 369), 0.7894414\n",
            "(7, 30, 5, 250), 0.76569486\n",
            "(14, 115, 2, 100), 0.2672824\n",
            "(13, 196, 6, 62), 0.82643485\n",
            "(16, 188, 4, 241), 0.72366256\n",
            "(7, 83, 11, 316), 0.81307554\n",
            "(19, 219, 17, 394), 0.7910254\n",
            "(11, 294, 7, 151), 0.23147184\n",
            "(16, 254, 5, 444), 0.8277216\n",
            "(16, 67, 17, 325), 0.80642265\n",
            "(13, 372, 5, 403), 0.76421577\n",
            "(12, 186, 2, 5), 0.7948984\n",
            "(17, 90, 10, 302), 0.8119427\n",
            "(3, 255, 8, 226), 0.8221431\n",
            "(17, 749, 15, 199), 0.78673846\n",
            "(15, 311, 13, 220), 0.14808132\n",
            "(0, 214, 17, 69), 0.7889291\n",
            "(10, 326, 8, 333), 0.7810416\n",
            "(3, 221, 0, 330), 0.8110319\n",
            "(1, 236, 7, 35), 0.8109628\n",
            "(0, 87, 12, 268), 0.79047084\n",
            "(6, 115, 1, 372), 0.7827226\n",
            "(14, 259, 16, 103), 0.7913925\n",
            "(17, 165, 12, 228), 0.36335313\n",
            "(3, 225, 6, 190), 0.5499917\n",
            "(1, 384, 4, 218), 0.6914599\n",
            "(19, 7, 11, 281), 0.3876647\n",
            "(18, 462, 15, 707), 0.8177361\n",
            "(5, 369, 18, 236), 0.39586127\n",
            "(19, 343, 13, 422), 0.6376938\n",
            "(5, 333, 13, 59), 0.82188934\n",
            "(9, 286, 2, 179), 0.73930436\n",
            "(8, 221, 15, 34), 0.8010029\n",
            "(7, 212, 2, 281), 0.3737849\n"
          ],
          "name": "stdout"
        }
      ]
    },
    {
      "metadata": {
        "id": "_I1w99PQ71J6",
        "colab_type": "code",
        "colab": {}
      },
      "cell_type": "code",
      "source": [
        "length_it"
      ],
      "execution_count": 0,
      "outputs": []
    },
    {
      "metadata": {
        "id": "nto4McRm-dhX",
        "colab_type": "code",
        "outputId": "6ad7fdaf-e3ba-402a-b5d3-631bc378da6c",
        "colab": {
          "base_uri": "https://localhost:8080/",
          "height": 34
        }
      },
      "cell_type": "code",
      "source": [
        "f_g0.shape"
      ],
      "execution_count": 0,
      "outputs": [
        {
          "output_type": "execute_result",
          "data": {
            "text/plain": [
              "(346, 4)"
            ]
          },
          "metadata": {
            "tags": []
          },
          "execution_count": 89
        }
      ]
    },
    {
      "metadata": {
        "id": "yjXqsuqR-j9N",
        "colab_type": "code",
        "outputId": "1a6dea1c-f970-4614-d450-dfb59b215299",
        "colab": {
          "base_uri": "https://localhost:8080/",
          "height": 102
        }
      },
      "cell_type": "code",
      "source": [
        "f_g0.iloc[f_r1]"
      ],
      "execution_count": 0,
      "outputs": [
        {
          "output_type": "execute_result",
          "data": {
            "text/plain": [
              "Id                                                 ID_0b28834b0\n",
              "difficulty                                                    1\n",
              "ciphertext    ^c1f\u0002^W1W0a_01\u001b\u0002A1'a\u00021LrH1O#\u001b1^\u00021^#1'a\u0002vs1u<1r...\n",
              "target                                                        3\n",
              "Name: 22287, dtype: object"
            ]
          },
          "metadata": {
            "tags": []
          },
          "execution_count": 93
        }
      ]
    },
    {
      "metadata": {
        "id": "u3lLXCzO-o2k",
        "colab_type": "code",
        "outputId": "0613ebe4-5e50-4815-a456-ce2f4c4f2a63",
        "colab": {
          "base_uri": "https://localhost:8080/",
          "height": 34
        }
      },
      "cell_type": "code",
      "source": [
        "into_x.shape"
      ],
      "execution_count": 0,
      "outputs": [
        {
          "output_type": "execute_result",
          "data": {
            "text/plain": [
              "(300,)"
            ]
          },
          "metadata": {
            "tags": []
          },
          "execution_count": 134
        }
      ]
    },
    {
      "metadata": {
        "id": "bPcfSUFW_0p-",
        "colab_type": "code",
        "outputId": "06b06d2e-5d09-4c86-d678-f47cb4e7ff40",
        "colab": {
          "base_uri": "https://localhost:8080/",
          "height": 34
        }
      },
      "cell_type": "code",
      "source": [
        "into_y.shape"
      ],
      "execution_count": 0,
      "outputs": [
        {
          "output_type": "execute_result",
          "data": {
            "text/plain": [
              "(300,)"
            ]
          },
          "metadata": {
            "tags": []
          },
          "execution_count": 135
        }
      ]
    },
    {
      "metadata": {
        "id": "RyGMuHnmBIe4",
        "colab_type": "text"
      },
      "cell_type": "markdown",
      "source": [
        "(4, 73, 9, 324), 0.08543558"
      ]
    },
    {
      "metadata": {
        "id": "7ntwJ5Sh_1p1",
        "colab_type": "code",
        "outputId": "485f4bfd-610b-465e-bcc0-a4b320c3e0d4",
        "colab": {
          "base_uri": "https://localhost:8080/",
          "height": 54
        }
      },
      "cell_type": "code",
      "source": [
        "group_it[4].iloc[73]['ciphertext']"
      ],
      "execution_count": 0,
      "outputs": [
        {
          "output_type": "execute_result",
          "data": {
            "text/plain": [
              "\"\\x1b#\\x1b1a\\x02_^-'Ota\\x03O\\x038\\x1b\\x08\\x08\\x0811}cvt1t0^cd0t1'\\x1b^'8\\x1b1-ad0ts1[1WO\\x02t1t^1f\\x02^W\\x08\\x08\\x08\\x08\\x08s1s1{0\\x1b#\\x1b;v1O\\x03v^8ct\\x1b8o1\\x02^1#\\x1bOv^\\x021W0o1Aa]]\\x1b#\\x1b\\x02_\\x1bv1a\\x021t0\\x1b1x\\x1e/e1O__\\x1bvv1ta-\\x1b1s1)O8^\\x02\\x1b)1W^c8A1_Ocv\\x1b1O\\x021a\\x02_^-'Ota\\x03a8ato\\x0811{0\\x1b#\\x1b1W^c8A10Oz\\x1b1t^1\\x03\\x1b1O\\x02^t0\\x1b#1s1Aa]]\\x1b#\\x1b\\x02_\\x1b1\\x03\\x1btW\\x1b\\x1b\\x021t0\\x1b1>:eev1]^#1t0\\x1b#\\x1b1t^1\\x03\\x1b1O1'#^\\x038\\x1b-\\x0811:;z\\x1b1^]t\\x1b\\x021cv\\x1bA1s1-\\x1b-^#o1\""
            ]
          },
          "metadata": {
            "tags": []
          },
          "execution_count": 30
        }
      ]
    },
    {
      "metadata": {
        "id": "yjKDJwDqAhPr",
        "colab_type": "code",
        "outputId": "0bc34eee-3a26-4ace-f9d6-63f55238e3e4",
        "colab": {
          "base_uri": "https://localhost:8080/",
          "height": 34
        }
      },
      "cell_type": "code",
      "source": [
        "group_it[9].iloc[324]['ciphertext']"
      ],
      "execution_count": 0,
      "outputs": [
        {
          "output_type": "execute_result",
          "data": {
            "text/plain": [
              "'^O#\\x08\\x08\\x08s'"
            ]
          },
          "metadata": {
            "tags": []
          },
          "execution_count": 33
        }
      ]
    },
    {
      "metadata": {
        "id": "m0riLxRswiC7",
        "colab_type": "text"
      },
      "cell_type": "markdown",
      "source": [
        "(10, 108, 11, 204), 0.84277266"
      ]
    },
    {
      "metadata": {
        "id": "4MI_BZqvCF7Z",
        "colab_type": "code",
        "outputId": "42e17d7c-0826-49b7-f63f-82960989d700",
        "colab": {
          "base_uri": "https://localhost:8080/",
          "height": 54
        }
      },
      "cell_type": "code",
      "source": [
        "group_it[10].iloc[108]['ciphertext']"
      ],
      "execution_count": 0,
      "outputs": [
        {
          "output_type": "execute_result",
          "data": {
            "text/plain": [
              "'*#^-G1-Oo\\x02O#Ab#O-v\\x1bo\\x08_v\\x088Oc#\\x1b\\x02taO\\x02\\x08_O1|\\x1e^d\\x1b#1eOo\\x02O#Ays1>c\\x03X\\x1b_tG1\\x1e\\x1bG1Aaz\\x081O\\x02A1_^\\x02]\\x081\\x02O-\\x1bvs1%#dO\\x02ahOta^\\x02G1x\\x1b\\'t\\x081^]12^-\\'ct\\x1b#1>_a\\x1b\\x02_\\x1bT1FOc#\\x1b\\x02taO\\x021@\\x02az\\x1b#vatoT1>cA\\x03c#oT1%\\x7fs1xavt#a\\x03cta^\\x02G1\\x02Os1Fa\\x02\\x1bvG15us1s1:\\x021 2\\t\\'x\":\\x08F}Fb\\x02\\x1bWv\\x08_v^\\x08cac_\\x08\\x1bAc[1\\x1b\\'#at_0Obv\\x08\\'vo_0\\x08cac_\\x08\\x1bAc1|1EzO\\x0219#at_0O#Ay1W#at\\x1bvGs1s1[Q:1t0a\\x02f1t0O'"
            ]
          },
          "metadata": {
            "tags": []
          },
          "execution_count": 50
        }
      ]
    },
    {
      "metadata": {
        "id": "Uh0LYBkDwmT7",
        "colab_type": "code",
        "outputId": "6d9fc453-534a-4840-f9c1-6f4ec4b75bfd",
        "colab": {
          "base_uri": "https://localhost:8080/",
          "height": 54
        }
      },
      "cell_type": "code",
      "source": [
        "group_it[11].iloc[204]['ciphertext']"
      ],
      "execution_count": 0,
      "outputs": [
        {
          "output_type": "execute_result",
          "data": {
            "text/plain": [
              "'3L\\\\\\\\LL\\\\LLs1xJ111L\\\\\\\\L\\\\\\\\LLJ1113L\\\\\\\\LLL\\\\\\\\s1xJ111L\\\\\\\\LLL\\\\LJ1113L\\\\\\\\LLL\\\\Ls1xJ111L\\\\\\\\LLLL\\\\J1113L\\\\\\\\LLLL\\\\s1xJ111L\\\\\\\\LLLLLJ1113L\\\\\\\\LLLLLs1xJ111L\\\\L\\\\\\\\\\\\\\\\\\\\J1113L\\\\L\\\\\\\\\\\\\\\\\\\\s1xJ111L\\\\L\\\\\\\\\\\\\\\\LJ1113L\\\\L\\\\\\\\\\\\\\\\Ls1xJ111L\\\\L\\\\\\\\\\\\L\\\\J1113L\\\\L\\\\\\\\\\\\L\\\\s1xJ111L\\\\L\\\\LL\\\\\\\\J1113L\\\\L\\\\\\\\\\\\LLs1xJ111L\\\\L\\\\\\\\L\\\\\\\\J1113L\\\\L\\\\\\\\L\\\\\\\\s1xJ111L\\\\L\\\\\\\\L\\\\LJ1113L\\\\L\\\\\\\\L\\\\Ls1xJ111L\\\\L\\\\'"
            ]
          },
          "metadata": {
            "tags": []
          },
          "execution_count": 51
        }
      ]
    },
    {
      "metadata": {
        "id": "o7D9OVF8woJy",
        "colab_type": "code",
        "outputId": "056c2f11-8310-439f-b725-e1b24edd9e36",
        "colab": {
          "base_uri": "https://localhost:8080/",
          "height": 34
        }
      },
      "cell_type": "code",
      "source": [
        "group_it[11].iloc[204]['ciphertext'][2]"
      ],
      "execution_count": 0,
      "outputs": [
        {
          "output_type": "execute_result",
          "data": {
            "text/plain": [
              "'\\\\'"
            ]
          },
          "metadata": {
            "tags": []
          },
          "execution_count": 36
        }
      ]
    },
    {
      "metadata": {
        "id": "izhXpdnzzXHt",
        "colab_type": "code",
        "colab": {}
      },
      "cell_type": "code",
      "source": [
        ""
      ],
      "execution_count": 0,
      "outputs": []
    }
  ]
}
