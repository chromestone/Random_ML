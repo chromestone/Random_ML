{
  "cells": [
    {
      "metadata": {
        "_uuid": "8f2839f25d086af736a60e9eeb907d3b93b6e0e5",
        "_cell_guid": "b1076dfc-b9ad-4769-8c92-a6c4dae69d19",
        "trusted": true
      },
      "cell_type": "code",
      "source": "# This Python 3 environment comes with many helpful analytics libraries installed\n# It is defined by the kaggle/python docker image: https://github.com/kaggle/docker-python\n# For example, here's several helpful packages to load in \n\nimport numpy as np # linear algebra\nimport pandas as pd # data processing, CSV file I/O (e.g. pd.read_csv)\n\n# Input data files are available in the \"../input/\" directory.\n# For example, running this (by clicking run or pressing Shift+Enter) will list the files in the input directory\n\nimport os\nprint(os.listdir(\"../input\"))\n\n# Any results you write to the current directory are saved as output.",
      "execution_count": null,
      "outputs": []
    },
    {
      "metadata": {
        "_cell_guid": "79c7e3d0-c299-4dcb-8224-4455121ee9b0",
        "_uuid": "d629ff2d2480ee46fbb7e2d37f6b5fab8052498a",
        "trusted": true
      },
      "cell_type": "code",
      "source": "train = pd.read_csv('../input/train.csv')\n#test = pd.read_csv('../input/test.csv')",
      "execution_count": null,
      "outputs": []
    },
    {
      "metadata": {
        "trusted": true,
        "_uuid": "eaf1e69137b610d86bc2b46d55ca2c344c6f6a52"
      },
      "cell_type": "code",
      "source": "train.head()",
      "execution_count": null,
      "outputs": []
    },
    {
      "metadata": {
        "trusted": true,
        "_uuid": "275d60f6e7bb12afeb29b628e44f5e7cb9ff067b"
      },
      "cell_type": "code",
      "source": "train_diff_in = pd.get_dummies(train['difficulty'], dtype='float32')",
      "execution_count": null,
      "outputs": []
    },
    {
      "metadata": {
        "trusted": true,
        "_uuid": "e041f86589145c7fb097050589e4ddfb3dca82ee"
      },
      "cell_type": "code",
      "source": "np_diff_in = train_diff_in.values",
      "execution_count": null,
      "outputs": []
    },
    {
      "metadata": {
        "trusted": true,
        "_uuid": "17c8f5042315966a84a07cce4c1b4f01cbe56d0b"
      },
      "cell_type": "code",
      "source": "np_diff_in.dtype",
      "execution_count": null,
      "outputs": []
    },
    {
      "metadata": {
        "trusted": true,
        "_uuid": "9a4e7f0599eb7ed991cf69b6d75df721f5d7ee42"
      },
      "cell_type": "code",
      "source": "row_num = train['ciphertext'].size\nnp_inputs = np.zeros((row_num, 300), dtype=np.float32)\nnp_inputs.dtype",
      "execution_count": null,
      "outputs": []
    },
    {
      "metadata": {
        "trusted": true,
        "_uuid": "9cc6d51433667e18ffc25f9659a9410b0ff7e8eb"
      },
      "cell_type": "code",
      "source": "for i, e in train['ciphertext'].iteritems():\n    #print(e)\n    encoded = e.encode(\"ascii\", errors='strict')\n    lmao = np.frombuffer(encoded, dtype=np.byte)\n    #if (lmao.shape[0] != 300):\n    #    print(\"%d %d %d\" % (lmao.shape[0], i, len(encoded)))\n    np_inputs[i, :len(encoded)] = lmao",
      "execution_count": null,
      "outputs": []
    },
    {
      "metadata": {
        "trusted": true,
        "scrolled": true,
        "_uuid": "24476f15a044ef953f795d65e3e45de35fcc8b0e"
      },
      "cell_type": "code",
      "source": "np_inputs",
      "execution_count": null,
      "outputs": []
    },
    {
      "metadata": {
        "_uuid": "1e2659c27e4e5eb44de8b898cf120b9dcbaaadd6"
      },
      "cell_type": "markdown",
      "source": "def bytes_from_str(x):\n    return x.encode(\"ascii\", errors='strict')"
    },
    {
      "metadata": {
        "_uuid": "80c39ce1ca8cc88128f2bcbbd2ecfc8db5c7e24b"
      },
      "cell_type": "markdown",
      "source": "type(bytes_from_str(\"lmao\"))"
    },
    {
      "metadata": {
        "_uuid": "5f99bac75902fabe74677c5dd3ff100cd761c59f"
      },
      "cell_type": "markdown",
      "source": "is_this_input = train['ciphertext'].apply(bytes_from_str)"
    },
    {
      "metadata": {
        "_uuid": "042f14d0ef8f865f46681c1b41a87b9bfd748ed3"
      },
      "cell_type": "markdown",
      "source": "is_this_input.dtype"
    },
    {
      "metadata": {
        "_uuid": "a76243f22eaa8d7e08fc68b5b93d9a5fddf7d555"
      },
      "cell_type": "markdown",
      "source": "is_this_input.head()"
    },
    {
      "metadata": {
        "_uuid": "d38dfa5f1ef64979ea7b18140baf22901e412194"
      },
      "cell_type": "markdown",
      "source": "this_is_input_val = is_this_input.values"
    },
    {
      "metadata": {
        "_uuid": "a7fa9bc04fbdd67dbe71d9483bc5efbdf96db7e0"
      },
      "cell_type": "markdown",
      "source": "this_is_input_val.shape"
    },
    {
      "metadata": {
        "_uuid": "b3ca09a068f4ec869bad14be654ce27808e0e912"
      },
      "cell_type": "markdown",
      "source": "type(this_is_input_val[0])"
    },
    {
      "metadata": {
        "trusted": true,
        "_uuid": "2cf073e3d8d232f0db3c6b0f60846b3407a0df34"
      },
      "cell_type": "markdown",
      "source": "lmao = train['ciphertext'][0]\ntype(lmao)"
    },
    {
      "metadata": {
        "trusted": true,
        "_uuid": "bbfd150aebae89c430c48a9c7d8c5d5623fedcc7"
      },
      "cell_type": "code",
      "source": "from keras.models import Model\nimport keras.layers as KL",
      "execution_count": null,
      "outputs": []
    },
    {
      "metadata": {
        "trusted": true,
        "_uuid": "802313a3c08b2afe9a18b3e6a6ec2ef0d1bb71ba"
      },
      "cell_type": "code",
      "source": "import keras.backend as K",
      "execution_count": null,
      "outputs": []
    },
    {
      "metadata": {
        "trusted": true,
        "scrolled": false,
        "_uuid": "b0ceb2ec8ab5d5f2ff4d354814fc08a827c33888"
      },
      "cell_type": "code",
      "source": "# This returns a tensor\n# inputs = KL.Input(shape=(300,), name=\"inputs\")\ninputs = KL.Input(shape=(1,300), name=\"inputs\")\ndiff_in = KL.Input(shape=(4,), name=\"diff_in\")\n\n#reshaped = KL.Reshape(target_shape=(1,))(inputs)\nconv_thing = KL.Conv1D(128, kernel_size=3, strides=2, data_format=\"channels_first\", name='conv1')(inputs)\nconv_thing = KL.Conv1D(32, kernel_size=3, strides=2, data_format=\"channels_first\", name='conv2')(conv_thing)\nconv_thing = KL.Conv1D(32, kernel_size=3, strides=2, data_format=\"channels_first\", name='conv3')(conv_thing)\nconv_thing = KL.Conv1D(32, kernel_size=3, strides=2, data_format=\"channels_first\", name='conv4')(conv_thing)\nconv_thing = KL.Conv1D(32, kernel_size=3, strides=2, data_format=\"channels_first\", name='conv5')(conv_thing)\nconv_thing = KL.Conv1D(32, kernel_size=3, strides=2, data_format=\"channels_first\", name='conv6')(conv_thing)\nconv_thing = KL.Conv1D(16, kernel_size=3, strides=2, data_format=\"channels_first\", name='conv7')(conv_thing)\nconv_thing =  KL.Lambda(lambda x: K.squeeze(x, axis=2))(conv_thing)\n\n#x = KL.Dropout(0.2, name='drop0')(inputs)\nx = KL.Concatenate(axis=1, name='concat0')([conv_thing, diff_in])#([x, diff_in])\n\n# a layer instance is callable on a tensor, and returns a tensor\nx = KL.Dense(10, activation='relu', name='dense0')(x)\n\nd0 = x = KL.Dropout(0.2, name='drop1')(x)\nx = KL.Dense(10, activation='relu', name='dense1')(x)\n#x = KL.Concatenate(axis=1, name='concat1')([x, lol0])\nx = KL.Dropout(0.2, name='drop2')(x)\nx = KL.Dense(10, activation='relu', name='dense2')(x)\nx = KL.Concatenate(axis=1, name='concat1')([x, d0])\n\nd1 = x = KL.Dropout(0.2, name='drop3')(x)\nx = KL.Dense(10, activation='relu', name='dense3')(x)\n#x = KL.Concatenate(axis=1, name='concat2')([x, lol1])\nx = KL.Dropout(0.2, name='drop4')(x)\nx = KL.Dense(10, activation='relu', name='dense4')(x)\nx = KL.Concatenate(axis=1, name='concat2')([x, d1])\nx = KL.Dropout(0.2, name='drop6')(x)\n\npredictions = KL.Dense(20, activation='softmax', name='dense5')(x)\n\n# This creates a model that includes\n# the Input layer and three Dense layers\nin_stuff = [inputs, diff_in]\nmodel = Model(inputs=in_stuff, outputs=predictions)\n# model.compile(optimizer='rmsprop',\n#               loss='categorical_crossentropy',\n#               metrics=['accuracy'])\n# model.fit(data, labels)  # starts training",
      "execution_count": null,
      "outputs": []
    },
    {
      "metadata": {
        "trusted": true,
        "scrolled": true,
        "_uuid": "d8e92b192fed006dba53d12f831290d468792659"
      },
      "cell_type": "code",
      "source": "model.summary()",
      "execution_count": null,
      "outputs": []
    },
    {
      "metadata": {
        "trusted": true,
        "_uuid": "884f63d86ec2c001098d57d5dd3e0dbd42c17d55"
      },
      "cell_type": "markdown",
      "source": "model = Sequential()\nmodel.add(KL.Dense(20, input_dim=304))\nmodel.add(KL.Dropout(.1))\nmodel.add(Activation('relu'))"
    },
    {
      "metadata": {
        "trusted": true,
        "_uuid": "05cbf845dba745ef5fdd8613805c346ee6301b38"
      },
      "cell_type": "markdown",
      "source": "x = lmao.encode(encoding='ascii', errors='strict') "
    },
    {
      "metadata": {
        "trusted": true,
        "_uuid": "9ac20edfd947e90fa2a72ae809dfcfe71a18142e"
      },
      "cell_type": "code",
      "source": "np_inputs_norm = np_inputs / 127",
      "execution_count": null,
      "outputs": []
    },
    {
      "metadata": {
        "trusted": true,
        "_uuid": "160ceda667605226ba2cca479e375f16d94b50d0"
      },
      "cell_type": "code",
      "source": "np_inputs_norm.shape",
      "execution_count": null,
      "outputs": []
    },
    {
      "metadata": {
        "trusted": true,
        "_uuid": "da162d244ce5c9e34730feccb88132c72ed98e89"
      },
      "cell_type": "code",
      "source": "np_diff_in.shape",
      "execution_count": null,
      "outputs": []
    },
    {
      "metadata": {
        "trusted": true,
        "_uuid": "690d490f4122373ea7f0d87c7fe76ae2921dd244"
      },
      "cell_type": "code",
      "source": "model.compile(optimizer='rmsprop',\n              loss='categorical_crossentropy',\n              metrics=['accuracy'])",
      "execution_count": null,
      "outputs": []
    },
    {
      "metadata": {
        "trusted": true,
        "_uuid": "b6442f069350f73db6f9d33a91ec851b1443c2b1"
      },
      "cell_type": "code",
      "source": "label_thingy = pd.get_dummies(train['target'], dtype='float32')",
      "execution_count": null,
      "outputs": []
    },
    {
      "metadata": {
        "trusted": true,
        "_uuid": "765808a84415a4f77df86174e16253fb5302df76"
      },
      "cell_type": "code",
      "source": "labels = label_thingy.values",
      "execution_count": null,
      "outputs": []
    },
    {
      "metadata": {
        "trusted": true,
        "_uuid": "fe041307340776f34967d95b7c9e0a5882956102"
      },
      "cell_type": "code",
      "source": "labels.shape",
      "execution_count": null,
      "outputs": []
    },
    {
      "metadata": {
        "trusted": true,
        "_uuid": "24375746b08b796a47811c99fe4f3c920d65d918"
      },
      "cell_type": "code",
      "source": "!mkdir logs",
      "execution_count": null,
      "outputs": []
    },
    {
      "metadata": {
        "trusted": true,
        "_uuid": "ce3ba049dcfcb74f06961276622582627925aab9"
      },
      "cell_type": "code",
      "source": "import keras.callbacks as KC",
      "execution_count": null,
      "outputs": []
    },
    {
      "metadata": {
        "trusted": true,
        "_uuid": "4de1251a0c3efe090495d187034dc76cafc7c7d4"
      },
      "cell_type": "code",
      "source": "checkpt = KC.ModelCheckpoint('logs/weights.{epoch:02d}-{acc:.2f}.hdf5', monitor='acc', verbose=0, save_best_only=False, save_weights_only=True, mode='auto', period=1)",
      "execution_count": null,
      "outputs": []
    },
    {
      "metadata": {
        "trusted": true,
        "scrolled": false,
        "_uuid": "a0d099346f7c312a552883d3f5ba22fa48fc2f4a"
      },
      "cell_type": "code",
      "source": "model.fit([np_inputs_norm[:,np.newaxis,:], np_diff_in], labels, callbacks=[checkpt], epochs=5)  # starts training",
      "execution_count": null,
      "outputs": []
    },
    {
      "metadata": {
        "trusted": true,
        "_uuid": "6cd060b5a01d9e6570921d2929bd8ba153f81dc3"
      },
      "cell_type": "code",
      "source": "!ls",
      "execution_count": null,
      "outputs": []
    },
    {
      "metadata": {
        "trusted": true,
        "_uuid": "c52899d08aeb43532d77bdb5157033d328ced715"
      },
      "cell_type": "code",
      "source": "from keras.utils import plot_model",
      "execution_count": null,
      "outputs": []
    },
    {
      "metadata": {
        "trusted": true,
        "_uuid": "d561118b0eddbc35b68819f8ede42c6c3bc5a8bb"
      },
      "cell_type": "code",
      "source": "plot_model(model, to_file='model.png')",
      "execution_count": null,
      "outputs": []
    },
    {
      "metadata": {
        "trusted": true,
        "_uuid": "6f2774fe7177b72f9903d37bc4d65723bbe8c21b"
      },
      "cell_type": "markdown",
      "source": "%matplotlib inline\n\nimport matplotlib\nimport matplotlib.pyplot as plt"
    },
    {
      "metadata": {
        "trusted": true,
        "_uuid": "463b4a0e0731c2995bb7399767e88b01a1bceef2"
      },
      "cell_type": "markdown",
      "source": "import matplotlib.image as mpimg"
    },
    {
      "metadata": {
        "trusted": true,
        "_uuid": "6d4f0e241c920f61b1730835b1ee62497fbd62bd"
      },
      "cell_type": "markdown",
      "source": "img=mpimg.imread('model.png')"
    },
    {
      "metadata": {
        "trusted": true,
        "_uuid": "fda4d497cf12c481c8388e340e467216035588a9"
      },
      "cell_type": "markdown",
      "source": "imgplot = plt.imshow(img)"
    },
    {
      "metadata": {
        "trusted": true,
        "_uuid": "3402aa9c6800f62226e98827d93d484d5476aba0"
      },
      "cell_type": "markdown",
      "source": "from matplotlib.pyplot import figure\n"
    },
    {
      "metadata": {
        "trusted": true,
        "_uuid": "48fb4baef859ca9ee797a43c0db9cc95de4b1a50"
      },
      "cell_type": "markdown",
      "source": "figure(figsize=(6,6))"
    },
    {
      "metadata": {
        "trusted": true,
        "_uuid": "8209702bbff9ab5a4bd1afe95d84b10c7dd56d74"
      },
      "cell_type": "code",
      "source": "\n#There are several ways to post an image in Jupyter notebooks:\n\n#via HTML:\n\nfrom IPython.display import Image\nfrom IPython.core.display import HTML \nImage(url= \"model.png\")",
      "execution_count": null,
      "outputs": []
    },
    {
      "metadata": {
        "_uuid": "49cac8008556b9d67bf18c4757e8bc0a6ee2d8fc"
      },
      "cell_type": "markdown",
      "source": "https://stackoverflow.com/questions/32370281/how-to-embed-image-or-picture-in-jupyter-notebook-either-from-a-local-machine-o"
    },
    {
      "metadata": {
        "trusted": true,
        "_uuid": "c0dbc805d334910c6d957e1443b6f0501f14dc92"
      },
      "cell_type": "code",
      "source": "",
      "execution_count": null,
      "outputs": []
    },
    {
      "metadata": {
        "trusted": true,
        "_uuid": "9d048c5149d2ede012b84668ded0550b2a7a58cc"
      },
      "cell_type": "code",
      "source": "",
      "execution_count": null,
      "outputs": []
    }
  ],
  "metadata": {
    "kernelspec": {
      "display_name": "Python 3",
      "language": "python",
      "name": "python3"
    },
    "language_info": {
      "name": "python",
      "version": "3.6.6",
      "mimetype": "text/x-python",
      "codemirror_mode": {
        "name": "ipython",
        "version": 3
      },
      "pygments_lexer": "ipython3",
      "nbconvert_exporter": "python",
      "file_extension": ".py"
    }
  },
  "nbformat": 4,
  "nbformat_minor": 1
}