{
  "nbformat": 4,
  "nbformat_minor": 0,
  "metadata": {
    "colab": {
      "name": "How to Google Drive in Colab",
      "version": "0.3.2",
      "provenance": [],
      "collapsed_sections": [
        "0ENMqxq25szn",
        "s6nDq8Nk7aPN"
      ],
      "toc_visible": true
    },
    "kernelspec": {
      "display_name": "Python 3",
      "name": "python3"
    }
  },
  "cells": [
    {
      "metadata": {
        "id": "c2W5A2px3doP",
        "colab_type": "text"
      },
      "cell_type": "markdown",
      "source": [
        "# Google Drive\n",
        "\n",
        "You can access files in Drive using the [native REST API](https://developers.google.com/drive/v3/web/about-sdk) or a wrapper like [PyDrive](https://googledrive.github.io/PyDrive/docs/build/html/index.html). We'll describe each, starting with PyDrive."
      ]
    },
    {
      "metadata": {
        "id": "jRQ5_yMcqJiV",
        "colab_type": "text"
      },
      "cell_type": "markdown",
      "source": [
        "## Drive REST API\n",
        "\n",
        "The first step is to authenticate."
      ]
    },
    {
      "metadata": {
        "id": "r-exJtdG3XwJ",
        "colab_type": "code",
        "colab": {}
      },
      "cell_type": "code",
      "source": [
        "from google.colab import auth\n",
        "auth.authenticate_user()"
      ],
      "execution_count": 0,
      "outputs": []
    },
    {
      "metadata": {
        "id": "57uSvdv48bp7",
        "colab_type": "text"
      },
      "cell_type": "markdown",
      "source": [
        "Now we can construct a Drive API client."
      ]
    },
    {
      "metadata": {
        "id": "1aNyFO958V13",
        "colab_type": "code",
        "colab": {}
      },
      "cell_type": "code",
      "source": [
        "from googleapiclient.discovery import build\n",
        "drive_service = build('drive', 'v3')"
      ],
      "execution_count": 0,
      "outputs": []
    },
    {
      "metadata": {
        "id": "eDLm7MHQEr2U",
        "colab_type": "text"
      },
      "cell_type": "markdown",
      "source": [
        "With the client created, we can use any of the functions in the [Google Drive API reference](https://developers.google.com/drive/v3/reference/). Examples follow.\n"
      ]
    },
    {
      "metadata": {
        "id": "P3KX0Sm0E2sF",
        "colab_type": "text"
      },
      "cell_type": "markdown",
      "source": [
        "## Downloading data from a Drive file into Python"
      ]
    },
    {
      "metadata": {
        "id": "KHeruhacFpSU",
        "colab_type": "code",
        "outputId": "dfe7154f-249c-4344-bd62-a3b294ce02b4",
        "colab": {
          "base_uri": "https://localhost:8080/",
          "height": 35
        }
      },
      "cell_type": "code",
      "source": [
        "# Download the file we just uploaded.\n",
        "#\n",
        "# Replace the assignment below with your file ID\n",
        "# to download a different file.\n",
        "#\n",
        "# A file ID looks like: 1uBtlaggVyWshwcyP6kEI-y_W3P8D26sz\n",
        "file_id = 'target_file_id'\n",
        "\n",
        "import io\n",
        "from googleapiclient.http import MediaIoBaseDownload\n",
        "\n",
        "request = drive_service.files().get_media(fileId=file_id)\n",
        "downloaded = io.BytesIO()\n",
        "downloader = MediaIoBaseDownload(downloaded, request)\n",
        "done = False\n",
        "while done is False:\n",
        "  # _ is a placeholder for a progress object that we ignore.\n",
        "  # (Our file is small, so we skip reporting progress.)\n",
        "  _, done = downloader.next_chunk()\n",
        "\n",
        "downloaded.seek(0)\n",
        "print('Downloaded file contents are: {}'.format(downloaded.read()))"
      ],
      "execution_count": 0,
      "outputs": [
        {
          "output_type": "stream",
          "text": [
            "Downloaded file contents are: my sample file\n"
          ],
          "name": "stdout"
        }
      ]
    },
    {
      "metadata": {
        "id": "ei7UzjdtgxRb",
        "colab_type": "code",
        "colab": {}
      },
      "cell_type": "code",
      "source": [
        "# second way of doing this\n",
        "file_id = 'target_file_id'\n",
        "#-> dunno what that is'1ZdR3L3qP4Bkq8noWLJHSr_iBau0DNT4Kli4SxNc2YEo'\n",
        "request = drive_service.files().export_media(fileId=file_id,\n",
        "                                             mimeType='application/pdf')\n",
        "fh = io.BytesIO()\n",
        "downloader = MediaIoBaseDownload(fh, request)\n",
        "done = False\n",
        "while done is False:\n",
        "    status, done = downloader.next_chunk()\n",
        "    print \"Download %d%%.\" % int(status.progress() * 100)"
      ],
      "execution_count": 0,
      "outputs": []
    },
    {
      "metadata": {
        "id": "giU6Mugdg_ug",
        "colab_type": "text"
      },
      "cell_type": "markdown",
      "source": [
        "### Look at me!\n",
        "Derek waz here"
      ]
    },
    {
      "metadata": {
        "id": "8ELHS30nhU6y",
        "colab_type": "code",
        "colab": {}
      },
      "cell_type": "code",
      "source": [
        "# gets text file (.txt)\n",
        "# actually gets the file in memory\n",
        "def get_drive_file(file_id):\n",
        "  request = drive_service.files().get_media(fileId=file_id)\n",
        "  downloaded = io.BytesIO()\n",
        "  downloader = MediaIoBaseDownload(downloaded, request)\n",
        "  done = False\n",
        "  while done is False:\n",
        "  # _ is a placeholder for a progress object that we ignore.\n",
        "  # (Our file is small, so we skip reporting progress.)\n",
        "    _, done = downloader.next_chunk()\n",
        "\n",
        "  downloaded.seek(0)\n",
        "  #print('Downloaded file contents are: {}'.format(downloaded.read()))\n",
        "\n",
        "  txtFile = io.TextIOWrapper(downloaded)\n",
        "  return txtFile"
      ],
      "execution_count": 0,
      "outputs": []
    },
    {
      "metadata": {
        "id": "kVYyp9VEhaEj",
        "colab_type": "code",
        "colab": {}
      },
      "cell_type": "code",
      "source": [
        "####\n",
        "# WIP\n",
        "# Effiency Unknown\n",
        "# Depdencies: opencv (cv2)\n",
        "# actually gets the file in memory\n",
        "#####\n",
        "from io import BytesIO\n",
        "from googleapiclient.http import MediaIoBaseDownload\n",
        "from cv2 import imdecode\n",
        "\n",
        "def download_image(file_id):\n",
        "  request = drive_service.files().get_media(fileId=file_id)\n",
        "  downloaded = BytesIO()#io.BytesIO()\n",
        "  downloader = MediaIoBaseDownload(downloaded, request)\n",
        "  done = False\n",
        "  while done is False:\n",
        "    # _ is a placeholder for a progress object that we ignore.\n",
        "    # (Our file is small, so we skip reporting progress.)\n",
        "    _, done = downloader.next_chunk()\n",
        "\n",
        "  downloaded.seek(0)\n",
        "\n",
        "  # improvements possible???\n",
        "  # there is likely two copies used and three copies in memory\n",
        "  # first convert into numpy byte array\n",
        "  foo = np.frombuffer(downloaded.getvalue(), dtype=np.uint8)\n",
        "  # -1 means unchanged I think\n",
        "  drive_image = imdecode(foo, -1)\n",
        "  return drive_image"
      ],
      "execution_count": 0,
      "outputs": []
    },
    {
      "metadata": {
        "id": "VQ4yFliSh8B1",
        "colab_type": "code",
        "outputId": "c4456c51-f7bc-421b-b790-48d1117e2089",
        "colab": {
          "base_uri": "https://localhost:8080/",
          "height": 54
        }
      },
      "cell_type": "code",
      "source": [
        "# effiency unkown\n",
        "# maps filename to a list of files\n",
        "# USING HTTP\n",
        "# I think returns array of {name, id}\n",
        "# looks in the color folder if true\n",
        "# does not actually get contents in memory\n",
        "def get_files(name, color):\n",
        "  # CHANGE THIS LINE TO CHANGE (PARENT) FOLDER\n",
        "  parent = '1z_hmFVHDl9UbA6qySEDEidfbU37pSTeN' if color else '1W-1zOkZIuU_F9Da63uEexMcqvndrPbFl'\n",
        "  query = \"'{0}' in parents\".format(parent)\n",
        "  # note there are mutually inclusive variables for team drive\n",
        "  # if you take out any you may get 403\n",
        "  response = drive_service.files().list(#q=\"mimeType='image/jpeg'\",\n",
        "                                        q=query,\n",
        "                                        spaces='drive',\n",
        "                                        fields='nextPageToken, files(id, name)',\n",
        "                                        pageToken=None,#page_token,\n",
        "                                        supportsTeamDrives=True,\n",
        "                                        corpora='teamDrive',\n",
        "                                        includeTeamDriveItems=True,\n",
        "                                        teamDriveId='0AI79WEVW3y_yUk9PVA'\n",
        "  ).execute()\n",
        "  return response.get('files', [])\n",
        "#########\n",
        "#READ THIS\n",
        "#########\n",
        "# id = get_files(\"171206_034513181_Camera_6.jpg\", True)[0].get('id')\n",
        "get_files(\"171206_034513181_Camera_6.jpg\", True).next_link\n",
        "# img = download_image(id)"
      ],
      "execution_count": 0,
      "outputs": []
    }
  ]
}